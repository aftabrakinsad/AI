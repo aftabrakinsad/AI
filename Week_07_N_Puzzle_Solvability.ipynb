{
  "cells": [
    {
      "cell_type": "markdown",
      "metadata": {
        "id": "view-in-github",
        "colab_type": "text"
      },
      "source": [
        "<a href=\"https://colab.research.google.com/github/aftabrakinsad/AI/blob/master/Week_07_N_Puzzle_Solvability.ipynb\" target=\"_parent\"><img src=\"https://colab.research.google.com/assets/colab-badge.svg\" alt=\"Open In Colab\"/></a>"
      ]
    },
    {
      "cell_type": "markdown",
      "metadata": {
        "id": "nz8Q6nBSaf7k"
      },
      "source": [
        "###### To solve a puzzle, you are given an initial state and a goal state.\n",
        "###### Target is to reach goal state from initial state using puzzle rules.\n",
        "######  We can move blank tile only on left, right, up, and down\n",
        "![Capture.JPG](attachment:Capture.JPG)"
      ]
    },
    {
      "cell_type": "markdown",
      "metadata": {
        "id": "SaqziTVFaf7s"
      },
      "source": [
        "# Generate an intial state of NPuzzle"
      ]
    },
    {
      "cell_type": "code",
      "execution_count": null,
      "metadata": {
        "scrolled": true,
        "id": "iTX34gUNaf7t"
      },
      "outputs": [],
      "source": [
        "import numpy as np\n",
        "import random\n",
        "def get_state(N):    \n",
        "    state = [item for item in range(N*N)]# [0,1,2,...,15]\n",
        "    #print(state)\n",
        "    random.shuffle(state)\n",
        "    #print(state)\n",
        "    tmp = np.array(state)\n",
        "    print(tmp.reshape(N,N))\n",
        "    return state"
      ]
    },
    {
      "cell_type": "code",
      "execution_count": null,
      "metadata": {
        "colab": {
          "base_uri": "https://localhost:8080/"
        },
        "id": "QKTU1E1Iaf7v",
        "outputId": "4f8efd3e-7130-4dcb-ab53-ab609fdf4c7e"
      },
      "outputs": [
        {
          "output_type": "stream",
          "name": "stdout",
          "text": [
            "[[8 1 7]\n",
            " [0 5 2]\n",
            " [6 3 4]]\n"
          ]
        },
        {
          "output_type": "execute_result",
          "data": {
            "text/plain": [
              "[8, 1, 7, 0, 5, 2, 6, 3, 4]"
            ]
          },
          "metadata": {},
          "execution_count": 4
        }
      ],
      "source": [
        "get_state(3)"
      ]
    },
    {
      "cell_type": "markdown",
      "metadata": {
        "id": "3hD4ieUaaf7x"
      },
      "source": [
        "# Calculate inversion"
      ]
    },
    {
      "cell_type": "markdown",
      "metadata": {
        "id": "CkoMv0C8af7y"
      },
      "source": [
        "Inversion is a pair of tiles that are in the reverse order from where they ought to be. In our case, the bigger number is in front of the smaller one.\n",
        "\n"
      ]
    },
    {
      "cell_type": "markdown",
      "metadata": {
        "id": "JcfDN45Caf7y"
      },
      "source": [
        "![Capture.JPG](attachment:Capture.JPG)"
      ]
    },
    {
      "cell_type": "code",
      "execution_count": null,
      "metadata": {
        "id": "-W9FOmneaf7z"
      },
      "outputs": [],
      "source": [
        "def count_inversion(state):\n",
        "    #arr = [i for i in arr if i !=0]\n",
        "    print(state)\n",
        "    inversion = []\n",
        "    for i in range(len(state)):    \n",
        "        count = 0\n",
        "        for j in range(i+1,len(state)):        \n",
        "            if state[i] > state[j]: \n",
        "                count = count + 1\n",
        "        inversion.append(count)\n",
        "    #print(inversion)\n",
        "    return sum(inversion)"
      ]
    },
    {
      "cell_type": "code",
      "execution_count": null,
      "metadata": {
        "colab": {
          "base_uri": "https://localhost:8080/"
        },
        "id": "sWAiuZfjaf71",
        "outputId": "c18f948d-3a51-4dea-c7b0-622cd201feda"
      },
      "outputs": [
        {
          "output_type": "stream",
          "name": "stdout",
          "text": [
            "[[13  3  5 11]\n",
            " [ 0 10  1  6]\n",
            " [ 2 12  9 14]\n",
            " [15  4  7  8]]\n",
            "[13, 3, 5, 11, 0, 10, 1, 6, 2, 12, 9, 14, 15, 4, 7, 8]\n"
          ]
        },
        {
          "output_type": "execute_result",
          "data": {
            "text/plain": [
              "51"
            ]
          },
          "metadata": {},
          "execution_count": 6
        }
      ],
      "source": [
        "s = get_state(4)\n",
        "count_inversion(s)"
      ]
    },
    {
      "cell_type": "markdown",
      "metadata": {
        "id": "8bTLG_ZQaf73"
      },
      "source": [
        "# Solvability Rules"
      ]
    },
    {
      "cell_type": "code",
      "execution_count": 13,
      "metadata": {
        "id": "0ciw2n-uaf77"
      },
      "outputs": [],
      "source": [
        "# apply the rules to decide solvability\n",
        "#  N, I, R\n",
        "# define a method to return solvability (input S)\n",
        "# return True if solvable or False if not\n",
        "import math\n",
        "def isSolvable(initialState):\n",
        "    n = math.sqrt(len(initialState))\n",
        "    i = count_inversion(initialState)\n",
        "    r = int(np.ceil(N - initialState.index(0)/N))\n",
        "    print(n)\n",
        "    print(r)\n",
        "    print(i)\n",
        "    # decide solvability\n",
        "    if n%2 != 0 and i%2 == 0:\n",
        "        print(\"true - 1\")\n",
        "\n",
        "    elif n%2==0 and r%2!=0 and i%2 == 0:\n",
        "        print(\"true - 2\")\n",
        "\n",
        "    elif n%2==0 and r%2==0 and i%2 != 0:\n",
        "        print(\"true - 3\")\n",
        "        \n",
        "    else:\n",
        "        print(\"false\")"
      ]
    },
    {
      "cell_type": "code",
      "source": [
        "N =3\n",
        "initialState = get_state(N)\n",
        "isSolvable(initialState)"
      ],
      "metadata": {
        "id": "u2TGpQfNhnP2",
        "colab": {
          "base_uri": "https://localhost:8080/"
        },
        "outputId": "702922a9-5c28-414b-efee-c918d323b5c6"
      },
      "execution_count": 14,
      "outputs": [
        {
          "output_type": "stream",
          "name": "stdout",
          "text": [
            "[[6 7 0]\n",
            " [4 3 8]\n",
            " [5 1 2]]\n",
            "[6, 7, 0, 4, 3, 8, 5, 1, 2]\n",
            "3.0\n",
            "3\n",
            "22\n",
            "true - 1\n"
          ]
        }
      ]
    }
  ],
  "metadata": {
    "kernelspec": {
      "display_name": "Python 3",
      "language": "python",
      "name": "python3"
    },
    "language_info": {
      "codemirror_mode": {
        "name": "ipython",
        "version": 3
      },
      "file_extension": ".py",
      "mimetype": "text/x-python",
      "name": "python",
      "nbconvert_exporter": "python",
      "pygments_lexer": "ipython3",
      "version": "3.8.5"
    },
    "colab": {
      "name": "Week 07 N Puzzle Solvability.ipynb",
      "provenance": [],
      "collapsed_sections": [],
      "include_colab_link": true
    }
  },
  "nbformat": 4,
  "nbformat_minor": 0
}