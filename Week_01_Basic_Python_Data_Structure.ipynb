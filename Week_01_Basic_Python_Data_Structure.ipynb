{
  "cells": [
    {
      "cell_type": "markdown",
      "metadata": {
        "id": "view-in-github",
        "colab_type": "text"
      },
      "source": [
        "<a href=\"https://colab.research.google.com/github/aftabrakinsad/AI/blob/master/Week_01_Basic_Python_Data_Structure.ipynb\" target=\"_parent\"><img src=\"https://colab.research.google.com/assets/colab-badge.svg\" alt=\"Open In Colab\"/></a>"
      ]
    },
    {
      "cell_type": "markdown",
      "metadata": {
        "id": "QCOV39MB-fbf"
      },
      "source": [
        "# About this notebook\n",
        "<p style=\"text-align: justify\"> Here, you will learn the basic coding and data structures including numbers, strings, list, dictionaries and more. Some codes will be given for demonstration. Some other codes, you will do as excercise.</p>\n",
        "\n",
        "## Submission\n",
        "<p style=\"text-align: justify\">After completing the practice codes and exercises, submit the notebook (.pynb file) to corresponding Teaching Assistant (TA) through Microsoft Teams</p>\n",
        "<p> 1.<b> You must submit your own code</b>. If similarity found negative marking will be given.</p>\n",
        "<p> 2. Do not change the file name.</p>\n",
        "<p> 3. Other file format will not be accepted.</p>"
      ]
    },
    {
      "cell_type": "markdown",
      "metadata": {
        "id": "IwYIPc8d-fbk"
      },
      "source": [
        "# Number"
      ]
    },
    {
      "cell_type": "code",
      "execution_count": null,
      "metadata": {
        "id": "kOPNJ6K--fbl",
        "outputId": "506bc2d4-0499-4bf0-b452-28d09bd02aef"
      },
      "outputs": [
        {
          "data": {
            "text/plain": [
              "12"
            ]
          },
          "execution_count": 38,
          "metadata": {},
          "output_type": "execute_result"
        }
      ],
      "source": [
        "# basic numeric operations\n",
        "34 - 22"
      ]
    },
    {
      "cell_type": "code",
      "execution_count": null,
      "metadata": {
        "id": "-TfQuxK0-fbo",
        "outputId": "5621ca24-6bb5-45e7-da9d-c7d87faafe59"
      },
      "outputs": [
        {
          "data": {
            "text/plain": [
              "2.875"
            ]
          },
          "execution_count": 39,
          "metadata": {},
          "output_type": "execute_result"
        }
      ],
      "source": [
        "# classic division returns a float\n",
        "23/8"
      ]
    },
    {
      "cell_type": "code",
      "execution_count": null,
      "metadata": {
        "id": "iScOwWg0-fbp",
        "outputId": "d7044a19-ffa3-4d24-f24c-029a541eb14a"
      },
      "outputs": [
        {
          "data": {
            "text/plain": [
              "2"
            ]
          },
          "execution_count": 40,
          "metadata": {},
          "output_type": "execute_result"
        }
      ],
      "source": [
        "# floor division discards the fractional part\n",
        "23 // 8  "
      ]
    },
    {
      "cell_type": "code",
      "execution_count": null,
      "metadata": {
        "id": "qQKGMZMH-fbq",
        "outputId": "5c137986-1fe6-49d0-e962-8063aac54901"
      },
      "outputs": [
        {
          "name": "stdout",
          "output_type": "stream",
          "text": [
            "59.04545454545455\n"
          ]
        }
      ],
      "source": [
        "# assigin value to variable for later use\n",
        "a = 1299 / 22\n",
        "print(a)"
      ]
    },
    {
      "cell_type": "code",
      "execution_count": null,
      "metadata": {
        "id": "894Ah20g-fbq",
        "outputId": "5b877a50-b841-4a7e-ab47-a683de67f1a3"
      },
      "outputs": [
        {
          "name": "stdout",
          "output_type": "stream",
          "text": [
            "531.4090909090909\n"
          ]
        }
      ],
      "source": [
        "# use the variable a for further operations\n",
        "b = a*9\n",
        "print(b)"
      ]
    },
    {
      "cell_type": "code",
      "execution_count": null,
      "metadata": {
        "id": "HBTVcOvP-fbr",
        "outputId": "333acc8d-353c-45b8-f7f0-d3d98db81f8c"
      },
      "outputs": [
        {
          "data": {
            "text/plain": [
              "1024"
            ]
          },
          "execution_count": 43,
          "metadata": {},
          "output_type": "execute_result"
        }
      ],
      "source": [
        "2 ** 10"
      ]
    },
    {
      "cell_type": "markdown",
      "metadata": {
        "id": "XKgMtVnF-fbs"
      },
      "source": [
        "<b>Exercise 1:</b> Assign values to some variables and perform different operations. Also print the results."
      ]
    },
    {
      "cell_type": "code",
      "execution_count": null,
      "metadata": {
        "id": "z9wJ06eG-fbt",
        "outputId": "389b791a-2005-4271-c0f7-172c3cbe214a"
      },
      "outputs": [
        {
          "name": "stdout",
          "output_type": "stream",
          "text": [
            "Addition: 5202\n",
            "Subtraction: 50\n",
            "Multiplication: 5000\n",
            "Division: 2\n",
            "Power: 1125899906842624\n"
          ]
        }
      ],
      "source": [
        "x = 100                   # declaring variables\n",
        "y = 50                    # declaring variables\n",
        "z = (x - y)               # subtraction\n",
        "u = (x * y)               # multiplication \n",
        "v = (x // y)              # division\n",
        "i = (x + y + z + u + v)   # addition\n",
        "j = (2 ** y)              # power\n",
        "\n",
        "# printing values\n",
        "\n",
        "print(\"Addition:\", i)\n",
        "print(\"Subtraction:\", z)\n",
        "print(\"Multiplication:\", u)\n",
        "print(\"Division:\", v)\n",
        "print(\"Power:\", j)"
      ]
    },
    {
      "cell_type": "markdown",
      "metadata": {
        "id": "GqS_2arG-fbt"
      },
      "source": [
        "# Import Module\n",
        "<p style=\"text-align: justify\"> Python code in one module gains access to the code in another module by the process of importing it. The import statement is the most common way of invoking the import machinery.</p>\n",
        "\n",
        "<p style=\"text-align: justify\">Python’s standard library is very extensive, offering a wide range of facilities. The library contains built-in modules (written in C) that provide access to system functionality such as file I/O that would otherwise be inaccessible to Python programmers, as well as modules written in Python that provide standardized solutions for many problems that occur in everyday programming. Some of these modules are explicitly designed to encourage and enhance the portability of Python programs by abstracting away platform-specifics into platform-neutral APIs.</p>\n",
        "\n",
        "<b> Example:</b> Python has a built-in module that you can use for mathematical tasks. The math module has a set of methods and constants. The detail documentation can be found [here](https://docs.python.org/3/library/math.html)."
      ]
    },
    {
      "cell_type": "code",
      "execution_count": null,
      "metadata": {
        "id": "ZAH72BJD-fbu",
        "outputId": "c4e35df9-4d63-4523-e8a9-e583b0431bd3"
      },
      "outputs": [
        {
          "data": {
            "text/plain": [
              "3.141592653589793"
            ]
          },
          "execution_count": 45,
          "metadata": {},
          "output_type": "execute_result"
        }
      ],
      "source": [
        "# importing the math module\n",
        "import math\n",
        "# accessing the constant π from math\n",
        "math.pi"
      ]
    },
    {
      "cell_type": "code",
      "execution_count": null,
      "metadata": {
        "id": "X_DNphqH-fbv",
        "outputId": "d4f9c6f7-b383-4b14-d148-5f148e4674b5"
      },
      "outputs": [
        {
          "data": {
            "text/plain": [
              "8.12403840463596"
            ]
          },
          "execution_count": 46,
          "metadata": {},
          "output_type": "execute_result"
        }
      ],
      "source": [
        "# using the method sqrt from math\n",
        "math.sqrt(66)"
      ]
    },
    {
      "cell_type": "markdown",
      "metadata": {
        "id": "7_qbA7GI-fbw"
      },
      "source": [
        "<b>Remember:</b> A cell always outputs the value of last variable. If you want to show other values use print. See the below cell for an example."
      ]
    },
    {
      "cell_type": "code",
      "execution_count": null,
      "metadata": {
        "id": "Ot6ZCzfe-fbw",
        "outputId": "8067a0a7-5c4f-4f52-d94f-1f8faebfb105"
      },
      "outputs": [
        {
          "name": "stdout",
          "output_type": "stream",
          "text": [
            "3\n",
            "236.1818181818182\n",
            "0.11111111111111112\n"
          ]
        }
      ],
      "source": [
        "print(1+2)\n",
        "print(a*4)\n",
        "print(a/b)"
      ]
    },
    {
      "cell_type": "markdown",
      "metadata": {
        "id": "PrVXeaV_-fbw"
      },
      "source": [
        "<b>Exercise 2:</b> Import a module of your choice and show some operations."
      ]
    },
    {
      "cell_type": "code",
      "execution_count": null,
      "metadata": {
        "id": "3mklu22k-fbx",
        "outputId": "7feea99e-2a82-49d5-e7a9-be65b56ac122"
      },
      "outputs": [
        {
          "name": "stdout",
          "output_type": "stream",
          "text": [
            "1.4169604095878634\n",
            "0\n",
            "Hello, Aftab\n"
          ]
        }
      ],
      "source": [
        "import random\n",
        "\n",
        "a = random.uniform(1, 10)  # random floating point value between 1 to 10\n",
        "print(a)\n",
        "\n",
        "b = random.randint(0, 1)   # tossing a coin, suppose 0 is head and 1 is tail\n",
        "print(b)\n",
        "\n",
        "# Let's say a robot wants to greet you. By default, some greetings messages are already installed in his system.\n",
        "greetings = ['Hello','Hi','Hey','Hola']\n",
        "c = random.choice(greetings)\n",
        "print(c +', Aftab!')"
      ]
    },
    {
      "cell_type": "markdown",
      "metadata": {
        "id": "BpeSNdRl-fbx"
      },
      "source": [
        "# Object types\n",
        "The basic object types are Numbers, Strings, Lists, Dictionaries, Tuples, Files and Other types (Sets, types, None, Booleans etc.)"
      ]
    },
    {
      "cell_type": "code",
      "execution_count": null,
      "metadata": {
        "id": "2c1hZ5oO-fbx",
        "outputId": "e9a24493-61c8-47e6-92fc-4e356d0cd37c"
      },
      "outputs": [
        {
          "name": "stdout",
          "output_type": "stream",
          "text": [
            "<class 'float'>\n",
            "<class 'int'>\n"
          ]
        }
      ],
      "source": [
        "# Checking the type of an object\n",
        "print(type(a))\n",
        "print(type(b))"
      ]
    },
    {
      "cell_type": "code",
      "execution_count": null,
      "metadata": {
        "id": "4VTUj5Rl-fby",
        "outputId": "20be6ec3-c291-4cd0-f234-233d04273721"
      },
      "outputs": [
        {
          "name": "stdout",
          "output_type": "stream",
          "text": [
            "<class 'int'>\n"
          ]
        }
      ],
      "source": [
        "c = 123\n",
        "print(type(c))"
      ]
    },
    {
      "cell_type": "code",
      "execution_count": null,
      "metadata": {
        "id": "_SdXX4Lv-fby",
        "outputId": "a35d1b6f-7771-40a1-c2d9-b90e87dc6bb6"
      },
      "outputs": [
        {
          "name": "stdout",
          "output_type": "stream",
          "text": [
            "<class 'str'>\n"
          ]
        }
      ],
      "source": [
        "d = '123'\n",
        "print(type(d))"
      ]
    },
    {
      "cell_type": "code",
      "execution_count": null,
      "metadata": {
        "id": "s7BouBKb-fby",
        "outputId": "4070ddd1-76be-4bfa-b9de-e09c982bdaee"
      },
      "outputs": [
        {
          "name": "stdout",
          "output_type": "stream",
          "text": [
            "<class 'float'>\n"
          ]
        }
      ],
      "source": [
        "c = 45.5\n",
        "print(type(c))"
      ]
    },
    {
      "cell_type": "code",
      "execution_count": null,
      "metadata": {
        "id": "suxFMEZQ-fby",
        "outputId": "ca784cd1-6dc4-4fe4-a01a-f98313083782"
      },
      "outputs": [
        {
          "name": "stdout",
          "output_type": "stream",
          "text": [
            "<class 'int'>\n"
          ]
        }
      ],
      "source": [
        "d = 99\n",
        "print(type(d))"
      ]
    },
    {
      "cell_type": "markdown",
      "metadata": {
        "id": "HfY2vohl-fbz"
      },
      "source": [
        "# String"
      ]
    },
    {
      "cell_type": "code",
      "execution_count": null,
      "metadata": {
        "id": "9DzfyB_t-fbz"
      },
      "outputs": [],
      "source": [
        "# assign value to a variable. The value can be qouted using '' or \"\"\n",
        "name = 'Bangladesh' "
      ]
    },
    {
      "cell_type": "code",
      "execution_count": null,
      "metadata": {
        "id": "qZc3Q42J-fbz",
        "outputId": "49e68998-97f1-4b0d-b765-2f6de282a854"
      },
      "outputs": [
        {
          "name": "stdout",
          "output_type": "stream",
          "text": [
            "C:\\some\n",
            "ame\n"
          ]
        }
      ],
      "source": [
        "print('C:\\some\\name')  # here \\n means newline!"
      ]
    },
    {
      "cell_type": "code",
      "execution_count": null,
      "metadata": {
        "id": "GjhMQ9cm-fbz",
        "outputId": "b435dc0e-3262-43cb-fee5-9942c5793fb1"
      },
      "outputs": [
        {
          "name": "stdout",
          "output_type": "stream",
          "text": [
            "C:\\some\\name\n"
          ]
        }
      ],
      "source": [
        "print(r'C:\\some\\name')  # note the r before the quote"
      ]
    },
    {
      "cell_type": "code",
      "execution_count": null,
      "metadata": {
        "id": "D3Su5otI-fb0",
        "outputId": "4bd17765-ad8c-4316-cd4b-5f131ad8e06c"
      },
      "outputs": [
        {
          "data": {
            "text/plain": [
              "'n'"
            ]
          },
          "execution_count": 57,
          "metadata": {},
          "output_type": "execute_result"
        }
      ],
      "source": [
        "# index\n",
        "name[2]"
      ]
    },
    {
      "cell_type": "code",
      "execution_count": null,
      "metadata": {
        "id": "poqsbxMF-fb0",
        "outputId": "6bddf3b5-1676-4014-f5c5-7572aaf6ae03"
      },
      "outputs": [
        {
          "data": {
            "text/plain": [
              "'s'"
            ]
          },
          "execution_count": 58,
          "metadata": {},
          "output_type": "execute_result"
        }
      ],
      "source": [
        "# negative index\n",
        "name[-2]"
      ]
    },
    {
      "cell_type": "markdown",
      "metadata": {
        "id": "Vc7hzUwc-fb0"
      },
      "source": [
        "When to use ' ' or \" \" ?"
      ]
    },
    {
      "cell_type": "code",
      "execution_count": null,
      "metadata": {
        "id": "oWG0chP6-fb0",
        "outputId": "9aa6eb86-12cd-425d-a497-8eb70efae354"
      },
      "outputs": [
        {
          "name": "stdout",
          "output_type": "stream",
          "text": [
            "asif \"rahman\n"
          ]
        }
      ],
      "source": [
        "name = 'asif \"rahman'\n",
        "print(name)"
      ]
    },
    {
      "cell_type": "code",
      "execution_count": null,
      "metadata": {
        "id": "qJ8ktgVN-fb0",
        "outputId": "3b8c8656-5857-4451-cc71-db8973ab4244"
      },
      "outputs": [
        {
          "name": "stdout",
          "output_type": "stream",
          "text": [
            "asif 'rahman\n"
          ]
        }
      ],
      "source": [
        "name = \"asif 'rahman\"\n",
        "print(name)"
      ]
    },
    {
      "cell_type": "markdown",
      "metadata": {
        "id": "ESiXudYS-fb1"
      },
      "source": [
        "string operations with * and +"
      ]
    },
    {
      "cell_type": "code",
      "execution_count": null,
      "metadata": {
        "id": "sQ_EPnAm-fb1",
        "outputId": "d1eb538c-c628-4f93-a081-5e0e4e19f79c"
      },
      "outputs": [
        {
          "data": {
            "text/plain": [
              "'asif>asif>asif>asif>asif>asif>asif>asif>'"
            ]
          },
          "execution_count": 61,
          "metadata": {},
          "output_type": "execute_result"
        }
      ],
      "source": [
        "'asif>' * 8"
      ]
    },
    {
      "cell_type": "code",
      "execution_count": null,
      "metadata": {
        "id": "0QuInEMQ-fb2",
        "outputId": "17f3ea71-6a67-45f2-8c21-8e54cce342ce"
      },
      "outputs": [
        {
          "data": {
            "text/plain": [
              "\"asif 'rahmanasif 'rahmanasif 'rahman\""
            ]
          },
          "execution_count": 62,
          "metadata": {},
          "output_type": "execute_result"
        }
      ],
      "source": [
        "name * 3"
      ]
    },
    {
      "cell_type": "code",
      "execution_count": null,
      "metadata": {
        "id": "fHyWi9xe-fb2",
        "outputId": "4a174441-6868-4b6b-bfa8-4099114497f2"
      },
      "outputs": [
        {
          "data": {
            "text/plain": [
              "'asif rahman'"
            ]
          },
          "execution_count": 63,
          "metadata": {},
          "output_type": "execute_result"
        }
      ],
      "source": [
        "'asif ' + 'rahman'"
      ]
    },
    {
      "cell_type": "code",
      "execution_count": null,
      "metadata": {
        "id": "4vFa7Omy-fb2",
        "outputId": "07c8edfc-db23-4888-d85b-d3374a5878df"
      },
      "outputs": [
        {
          "data": {
            "text/plain": [
              "\"asif 'rahman hasan\""
            ]
          },
          "execution_count": 64,
          "metadata": {},
          "output_type": "execute_result"
        }
      ],
      "source": [
        "name + ' hasan'"
      ]
    },
    {
      "cell_type": "code",
      "execution_count": null,
      "metadata": {
        "id": "z0JxrZtF-fb2",
        "outputId": "f02fd1fa-5fa4-4663-e482-b83e53c64ba1"
      },
      "outputs": [
        {
          "name": "stdout",
          "output_type": "stream",
          "text": [
            "ain\n",
            "ain\n",
            "ai\n"
          ]
        }
      ],
      "source": [
        "# slicing\n",
        "name = 'Hossain'\n",
        "print(name[-3:])\n",
        "print(name[4:])\n",
        "print(name[4:6])\n"
      ]
    },
    {
      "cell_type": "code",
      "execution_count": null,
      "metadata": {
        "id": "Pv99owok-fb3",
        "outputId": "970e4083-7f39-4a60-ef64-5719ee3ae729"
      },
      "outputs": [
        {
          "data": {
            "text/plain": [
              "'sai'"
            ]
          },
          "execution_count": 66,
          "metadata": {},
          "output_type": "execute_result"
        }
      ],
      "source": [
        "name[-4:-1]"
      ]
    },
    {
      "cell_type": "code",
      "execution_count": null,
      "metadata": {
        "id": "Cd-2te5L-fb3",
        "outputId": "f7eff8b1-c527-48ac-f52a-d652c0f82ea0"
      },
      "outputs": [
        {
          "data": {
            "text/plain": [
              "'Hossa'"
            ]
          },
          "execution_count": 67,
          "metadata": {},
          "output_type": "execute_result"
        }
      ],
      "source": [
        "name[-8:-2]"
      ]
    },
    {
      "cell_type": "code",
      "execution_count": null,
      "metadata": {
        "id": "WMyMcwMB-fb3"
      },
      "outputs": [],
      "source": [
        "#dir(name)"
      ]
    },
    {
      "cell_type": "markdown",
      "metadata": {
        "id": "3HEyO97n-fb3"
      },
      "source": [
        "Some examples of string methods"
      ]
    },
    {
      "cell_type": "code",
      "execution_count": null,
      "metadata": {
        "id": "7HLO2Zh4-fb3",
        "outputId": "8cf6a80f-f874-43f5-9c65-be748912cd69"
      },
      "outputs": [
        {
          "data": {
            "text/plain": [
              "3"
            ]
          },
          "execution_count": 69,
          "metadata": {},
          "output_type": "execute_result"
        }
      ],
      "source": [
        "name = 'Afsar Mahmud sayed'\n",
        "sub = 'a'\n",
        "name.count(sub)"
      ]
    },
    {
      "cell_type": "code",
      "execution_count": null,
      "metadata": {
        "id": "cAk33HiF-fb3",
        "outputId": "ea5ceca3-3dc1-47a6-c40d-c3106e71af44"
      },
      "outputs": [
        {
          "name": "stdout",
          "output_type": "stream",
          "text": [
            "ayed\n"
          ]
        }
      ],
      "source": [
        "print(name.split('s')[-1])"
      ]
    },
    {
      "cell_type": "code",
      "execution_count": null,
      "metadata": {
        "id": "m7btP85v-fb4",
        "outputId": "dd4a8500-4cbf-4ccf-aba9-00559195b592"
      },
      "outputs": [
        {
          "data": {
            "text/plain": [
              "False"
            ]
          },
          "execution_count": 71,
          "metadata": {},
          "output_type": "execute_result"
        }
      ],
      "source": [
        "name.islower()"
      ]
    },
    {
      "cell_type": "code",
      "execution_count": null,
      "metadata": {
        "id": "nwJQNcBI-fb4",
        "outputId": "884ba2d0-305b-4d41-df1c-4ea63190cd2d"
      },
      "outputs": [
        {
          "data": {
            "text/plain": [
              "['I am right', 'He is fine', 'This it okay']"
            ]
          },
          "execution_count": 72,
          "metadata": {},
          "output_type": "execute_result"
        }
      ],
      "source": [
        "mystring = 'I am right\\nHe is fine\\nThis it okay'\n",
        "mystring.splitlines()"
      ]
    },
    {
      "cell_type": "code",
      "execution_count": null,
      "metadata": {
        "id": "Vf89WLID-fb4",
        "outputId": "4e80a7d1-8694-4f40-9c7d-bf548744a935"
      },
      "outputs": [
        {
          "data": {
            "text/plain": [
              "['I', 'am', 'right\\nHe', 'is', 'fine\\nThis', 'it', 'okay']"
            ]
          },
          "execution_count": 73,
          "metadata": {},
          "output_type": "execute_result"
        }
      ],
      "source": [
        "mystring = 'I am right\\nHe is fine\\nThis it okay'\n",
        "mystring.split(' ')"
      ]
    },
    {
      "cell_type": "code",
      "execution_count": null,
      "metadata": {
        "id": "IAGhKgjI-fb4",
        "outputId": "df44d51e-aca2-44ea-92f3-bf7780243920"
      },
      "outputs": [
        {
          "data": {
            "text/plain": [
              "'Himel??Liton??Hasan??Fahim'"
            ]
          },
          "execution_count": 74,
          "metadata": {},
          "output_type": "execute_result"
        }
      ],
      "source": [
        "separator = '??'\n",
        "mystrings = ['Himel', 'Liton', 'Hasan', 'Fahim']\n",
        "separator.join(mystrings)"
      ]
    },
    {
      "cell_type": "code",
      "execution_count": null,
      "metadata": {
        "id": "OWcfF2MM-fb4"
      },
      "outputs": [],
      "source": [
        "#help(mystring.count)"
      ]
    },
    {
      "cell_type": "code",
      "execution_count": null,
      "metadata": {
        "id": "yWw1bGus-fb4",
        "outputId": "e6a6e461-8249-417d-dc44-b5fb89af6a64"
      },
      "outputs": [
        {
          "data": {
            "text/plain": [
              "18"
            ]
          },
          "execution_count": 76,
          "metadata": {},
          "output_type": "execute_result"
        }
      ],
      "source": [
        "len(name)"
      ]
    },
    {
      "cell_type": "markdown",
      "metadata": {
        "id": "s0bs2Ypz-fb5"
      },
      "source": [
        "<b>Exercise 3:</b> Demostrate some string operations. Also, show uses of some string methods."
      ]
    },
    {
      "cell_type": "code",
      "execution_count": null,
      "metadata": {
        "id": "eZa4oDss-fb5",
        "outputId": "b3ef94d8-a561-40ee-c6dd-f4cc57fa3587"
      },
      "outputs": [
        {
          "name": "stdout",
          "output_type": "stream",
          "text": [
            "aftab\n",
            "rakin\n",
            "sad\n",
            "Rakinsadaftab\n",
            "False\n",
            "RAKINSADAFTAB\n",
            "0\n",
            "False\n"
          ]
        }
      ],
      "source": [
        "mname = 'rakinsadaftab'\n",
        "print(mname[-5:])        # printing lastname\n",
        "print(mname[0:5])        # printing firstname\n",
        "print(mname[5:-5])       # printing middilename\n",
        "\n",
        "a = mname.capitalize()   # make first letter uppercase\n",
        "b = mname.isupper()      # checking all the letter are uppercase or not\n",
        "c = mname.upper()        # will print uppercase value\n",
        "d = mname.rfind('r')     # finds the index number\n",
        "e = mname.isspace()      # finds that in the value is there any space\n",
        "\n",
        "#printing\n",
        "\n",
        "print(a)\n",
        "print(b)\n",
        "print(c)\n",
        "print(d)\n",
        "print(e)"
      ]
    },
    {
      "cell_type": "markdown",
      "metadata": {
        "id": "ElNo9qcZ-fb5"
      },
      "source": [
        "# List\n",
        "<p style=\"text-align: justify\">Python knows a number of compound data types, used to group together other values. The most versatile is the list, which can be written as a list of comma-separated values (items) between square brackets. Lists might contain items of different types, but usually the items all have the same type.</p>"
      ]
    },
    {
      "cell_type": "code",
      "execution_count": null,
      "metadata": {
        "id": "lR-nnyiR-fb5",
        "outputId": "f41eddcb-b75d-4d12-9bff-fc0f9783555a"
      },
      "outputs": [
        {
          "data": {
            "text/plain": [
              "[1, 4, 9, 16, 25]"
            ]
          },
          "execution_count": 25,
          "metadata": {},
          "output_type": "execute_result"
        }
      ],
      "source": [
        "squares = [1, 4, 9, 16, 25]\n",
        "squares"
      ]
    },
    {
      "cell_type": "code",
      "execution_count": null,
      "metadata": {
        "id": "v0RB9_Vp-fb5"
      },
      "outputs": [],
      "source": [
        "data = [21, 'Manager', ['Manager', 89000] ,4.50, 'Dhaka']"
      ]
    },
    {
      "cell_type": "markdown",
      "metadata": {
        "id": "Gu5EC3w1-fb6"
      },
      "source": [
        "Like strings (and all other built-in sequence types), lists can be indexed and sliced:"
      ]
    },
    {
      "cell_type": "code",
      "execution_count": null,
      "metadata": {
        "id": "w02nB3U6-fb6",
        "outputId": "b47b6af5-c546-41c3-f3b6-f7efe78021b6"
      },
      "outputs": [
        {
          "data": {
            "text/plain": [
              "'Manager'"
            ]
          },
          "execution_count": 80,
          "metadata": {},
          "output_type": "execute_result"
        }
      ],
      "source": [
        "data[-3][0]"
      ]
    },
    {
      "cell_type": "code",
      "execution_count": null,
      "metadata": {
        "id": "pKa_jmlI-fb6",
        "outputId": "24d0fa07-0467-406d-e042-35837f74fe36"
      },
      "outputs": [
        {
          "data": {
            "text/plain": [
              "'Dhaka'"
            ]
          },
          "execution_count": 81,
          "metadata": {},
          "output_type": "execute_result"
        }
      ],
      "source": [
        "data[-1]"
      ]
    },
    {
      "cell_type": "code",
      "execution_count": null,
      "metadata": {
        "id": "FU7U6AYc-fb6",
        "outputId": "0bd87d6b-6370-4b36-bdc4-81fc19c2d9bd"
      },
      "outputs": [
        {
          "data": {
            "text/plain": [
              "[21, 'Manager']"
            ]
          },
          "execution_count": 82,
          "metadata": {},
          "output_type": "execute_result"
        }
      ],
      "source": [
        "data[0:2]"
      ]
    },
    {
      "cell_type": "code",
      "execution_count": null,
      "metadata": {
        "id": "HFAdXBCU-fb7",
        "outputId": "67ec4220-7659-4b2d-8bb1-e5bf9d6fd236"
      },
      "outputs": [
        {
          "data": {
            "text/plain": [
              "'Manager'"
            ]
          },
          "execution_count": 83,
          "metadata": {},
          "output_type": "execute_result"
        }
      ],
      "source": [
        "data[1]"
      ]
    },
    {
      "cell_type": "code",
      "execution_count": null,
      "metadata": {
        "id": "2sBYbEDG-fb7",
        "outputId": "cff9f685-d599-4335-b3ba-c48f36b81245"
      },
      "outputs": [
        {
          "data": {
            "text/plain": [
              "'Manager'"
            ]
          },
          "execution_count": 84,
          "metadata": {},
          "output_type": "execute_result"
        }
      ],
      "source": [
        "data[2][0]"
      ]
    },
    {
      "cell_type": "code",
      "execution_count": null,
      "metadata": {
        "id": "hTYZeprE-fb7",
        "outputId": "fde6d156-9b6b-483e-d871-8e2a6cbed48c"
      },
      "outputs": [
        {
          "data": {
            "text/plain": [
              "5"
            ]
          },
          "execution_count": 85,
          "metadata": {},
          "output_type": "execute_result"
        }
      ],
      "source": [
        "len(data)"
      ]
    },
    {
      "cell_type": "code",
      "execution_count": null,
      "metadata": {
        "id": "D38oA1rq-fb7",
        "outputId": "356b1fd6-824c-4939-ba5e-d542d857a443"
      },
      "outputs": [
        {
          "data": {
            "text/plain": [
              "'Dhaka'"
            ]
          },
          "execution_count": 86,
          "metadata": {},
          "output_type": "execute_result"
        }
      ],
      "source": [
        "data[-1]"
      ]
    },
    {
      "cell_type": "code",
      "execution_count": null,
      "metadata": {
        "id": "fW5PSHN3-fb7",
        "outputId": "8955e34c-3fe0-479b-880d-c7a19a409fab"
      },
      "outputs": [
        {
          "data": {
            "text/plain": [
              "[21, 'Manager', ['Manager', 89000], 4.5, 'Dhaka']"
            ]
          },
          "execution_count": 87,
          "metadata": {},
          "output_type": "execute_result"
        }
      ],
      "source": [
        "data"
      ]
    },
    {
      "cell_type": "markdown",
      "metadata": {
        "id": "y63-DD_b-fb7"
      },
      "source": [
        "Some list methods"
      ]
    },
    {
      "cell_type": "code",
      "execution_count": null,
      "metadata": {
        "id": "7oD9s3Ua-fb8",
        "outputId": "35ae9920-0b19-409d-ffa8-1836970d7f77"
      },
      "outputs": [
        {
          "name": "stdout",
          "output_type": "stream",
          "text": [
            "[21, 'Manager', ['Manager', 89000], 4.5, 'Dhaka', 100]\n"
          ]
        }
      ],
      "source": [
        "data.append(100)\n",
        "print(data)"
      ]
    },
    {
      "cell_type": "code",
      "execution_count": null,
      "metadata": {
        "id": "vXQyg5qJ-fb8",
        "outputId": "28e4d23c-a85c-4492-c0a3-986059fb1182"
      },
      "outputs": [
        {
          "name": "stdout",
          "output_type": "stream",
          "text": [
            "[21, 'Manager', ['Manager', 89000], 4.5, 'Dhaka']\n"
          ]
        }
      ],
      "source": [
        "data.remove(100)\n",
        "print(data)"
      ]
    },
    {
      "cell_type": "code",
      "execution_count": null,
      "metadata": {
        "id": "zFG-X_m--fb8",
        "outputId": "535d3b18-98b0-4f24-c8c9-3cae45d5b257"
      },
      "outputs": [
        {
          "name": "stdout",
          "output_type": "stream",
          "text": [
            "[21, ['Manager', 89000], 4.5, 'Dhaka']\n"
          ]
        }
      ],
      "source": [
        "data.pop(1)\n",
        "print(data)"
      ]
    },
    {
      "cell_type": "code",
      "execution_count": null,
      "metadata": {
        "id": "Bx_vElev-fb8"
      },
      "outputs": [],
      "source": [
        "#dir(data)"
      ]
    },
    {
      "cell_type": "code",
      "execution_count": null,
      "metadata": {
        "id": "cX9JYuUa-fb8"
      },
      "outputs": [],
      "source": [
        "#help(data.insert)"
      ]
    },
    {
      "cell_type": "markdown",
      "metadata": {
        "id": "5Nn52WQ4-fb8"
      },
      "source": [
        "Lists also support operations like concatenation"
      ]
    },
    {
      "cell_type": "code",
      "execution_count": null,
      "metadata": {
        "id": "MS3vLNw_-fb8",
        "outputId": "e17e75a5-ad74-46d8-cb9f-a1576e768be1"
      },
      "outputs": [
        {
          "data": {
            "text/plain": [
              "[1, 4, 9, 16, 25, 21, ['Manager', 89000], 4.5, 'Dhaka']"
            ]
          },
          "execution_count": 93,
          "metadata": {},
          "output_type": "execute_result"
        }
      ],
      "source": [
        "squares + data"
      ]
    },
    {
      "cell_type": "markdown",
      "metadata": {
        "id": "8ZeDOhLb-fb9"
      },
      "source": [
        "<b> Exercise 4:</b> Implement stack using list\n",
        "<p><b>Hints:</b> The list methods make it very easy to use a list as a stack, where the last element added is the first element retrieved (“last-in, first-out”). To add an item to the top of the stack, use append(). To retrieve an item from the top of the stack, use pop() without an explicit index</p>"
      ]
    },
    {
      "cell_type": "code",
      "execution_count": null,
      "metadata": {
        "id": "60nWLprs-fb9",
        "outputId": "d8893d2e-94e7-479b-dcbd-234a19eabce1"
      },
      "outputs": [
        {
          "name": "stdout",
          "output_type": "stream",
          "text": [
            "push: [0]\n",
            "push: [0, 1]\n",
            "push: [0, 1, 2]\n",
            "pop: [0, 1]\n",
            "peek: 1\n",
            "pop: [0]\n",
            "peek: 0\n"
          ]
        }
      ],
      "source": [
        "list=[]\n",
        "\n",
        "# Adding elements to the stack\n",
        "list.append(0)           # append 0\n",
        "print(\"push:\",list)\n",
        "list.append(1)           # append 1\n",
        "print(\"push:\",list)\n",
        "list.append(2)           # append 2\n",
        "print(\"push:\",list)\n",
        "list.pop()               # pop 2\n",
        "print(\"pop:\",list)\n",
        "\n",
        "print(\"peek:\",list[-1])  # get top most element\n",
        "list.pop()               # pop 1\n",
        "print(\"pop:\",list)\n",
        "print(\"peek:\",list[-1])  # get top most element"
      ]
    },
    {
      "cell_type": "markdown",
      "metadata": {
        "id": "zO5o35CM-fb9"
      },
      "source": [
        "<b> Exercise 5:</b> Implement queue using list\n",
        "<p><b>Hints:</b> It is also possible to use a list as a queue, where the first element added is the first element retrieved (“first-in, first-out”)</p>"
      ]
    },
    {
      "cell_type": "code",
      "execution_count": null,
      "metadata": {
        "id": "M2YbOZu7-fb9",
        "outputId": "2c279d4f-e67b-4756-f6d3-0e19bb145aed"
      },
      "outputs": [
        {
          "name": "stdout",
          "output_type": "stream",
          "text": [
            "enqueue: ['0']\n",
            "enqueue: ['0', '1']\n",
            "enqueue: ['0', '1', '2']\n",
            "\n",
            "Elements dequeued from queue\n",
            "0\n",
            "1\n",
            "\n",
            "Queue after removing elements\n",
            "['2']\n"
          ]
        }
      ],
      "source": [
        "queue = []\n",
        " \n",
        "# Adding elements to the queue\n",
        "queue.append('0')        # append a\n",
        "print(\"enqueue:\", queue)\n",
        "queue.append('1')        # append b\n",
        "print(\"enqueue:\", queue)\n",
        "queue.append('2')        # append c\n",
        "print(\"enqueue:\", queue)\n",
        " \n",
        "# Removing elements from the queue\n",
        "print(\"\\nElements dequeued from queue\")\n",
        "print(queue.pop(0))\n",
        "print(queue.pop(0))\n",
        " \n",
        "print(\"\\nQueue after removing elements\")\n",
        "print(queue)"
      ]
    },
    {
      "cell_type": "markdown",
      "metadata": {
        "id": "jI_hA7hs-fb9"
      },
      "source": [
        "# Dictionary\n",
        "<p style=\"text-align: justify\">Dictionaries are sometimes found in other languages as “associative memories” or “associative arrays”. Unlike sequences, which are indexed by a range of numbers, dictionaries are indexed by keys, which can be any immutable type; strings and numbers can always be keys.</p>\n",
        "\n",
        "<p style=\"text-align: justify\">It is best to think of a dictionary as a set of key: value pairs, with the requirement that the keys are unique (within one dictionary). A pair of braces creates an empty dictionary: {}. Placing a comma-separated list of key:value pairs within the braces adds initial key:value pairs to the dictionary; this is also the way dictionaries are written on output.</p>"
      ]
    },
    {
      "cell_type": "code",
      "execution_count": null,
      "metadata": {
        "id": "vDohgvQK-fb-"
      },
      "outputs": [],
      "source": [
        "tel = {'jack': 4098, 'sape': 4139}"
      ]
    },
    {
      "cell_type": "code",
      "execution_count": null,
      "metadata": {
        "id": "imaFUAYe-fb-",
        "outputId": "16c3483b-1661-4437-88f8-6a5727c6ddfb"
      },
      "outputs": [
        {
          "data": {
            "text/plain": [
              "{'jack': 4098, 'sape': 4139, 'guido': 4127}"
            ]
          },
          "execution_count": 97,
          "metadata": {},
          "output_type": "execute_result"
        }
      ],
      "source": [
        "tel['guido'] = 4127\n",
        "tel"
      ]
    },
    {
      "cell_type": "code",
      "execution_count": null,
      "metadata": {
        "id": "xP1WEQTR-fb-"
      },
      "outputs": [],
      "source": [
        "person = {'Age':21,'Name':['niaz','rahman'], 'Salary':56000, 'Rating':4.50}"
      ]
    },
    {
      "cell_type": "code",
      "execution_count": null,
      "metadata": {
        "id": "QdHBkJLM-fb-",
        "outputId": "e2b9c046-78c1-4856-9577-ba856a013994"
      },
      "outputs": [
        {
          "data": {
            "text/plain": [
              "['niaz', 'rahman']"
            ]
          },
          "execution_count": 19,
          "metadata": {},
          "output_type": "execute_result"
        }
      ],
      "source": [
        "person['Name']"
      ]
    },
    {
      "cell_type": "code",
      "execution_count": null,
      "metadata": {
        "id": "AguRKnIl-fb-",
        "outputId": "88eddcb1-d27b-4785-a3a2-393aa5dad6d8"
      },
      "outputs": [
        {
          "data": {
            "text/plain": [
              "4"
            ]
          },
          "execution_count": 100,
          "metadata": {},
          "output_type": "execute_result"
        }
      ],
      "source": [
        "len(person)"
      ]
    },
    {
      "cell_type": "code",
      "execution_count": null,
      "metadata": {
        "id": "PtcN2dQc-fb-",
        "outputId": "34e54d1a-6206-4a11-ceee-d2f0e1b1ed15"
      },
      "outputs": [
        {
          "data": {
            "text/plain": [
              "dict_keys(['Age', 'Name', 'Salary', 'Rating'])"
            ]
          },
          "execution_count": 101,
          "metadata": {},
          "output_type": "execute_result"
        }
      ],
      "source": [
        "person.keys()"
      ]
    },
    {
      "cell_type": "code",
      "execution_count": null,
      "metadata": {
        "id": "yTMEpErM-fb_",
        "outputId": "de86bd99-fca9-42c0-d0f4-56578db312fa"
      },
      "outputs": [
        {
          "data": {
            "text/plain": [
              "True"
            ]
          },
          "execution_count": 102,
          "metadata": {},
          "output_type": "execute_result"
        }
      ],
      "source": [
        "#person.has_key('Name')\n",
        "'Name' in person.keys()"
      ]
    },
    {
      "cell_type": "code",
      "execution_count": null,
      "metadata": {
        "id": "USbn99-C-fb_",
        "outputId": "80c06955-766a-4d25-ef42-94c4a83fb992"
      },
      "outputs": [
        {
          "data": {
            "text/plain": [
              "True"
            ]
          },
          "execution_count": 103,
          "metadata": {},
          "output_type": "execute_result"
        }
      ],
      "source": [
        "'niaz' in person['Name']"
      ]
    },
    {
      "cell_type": "code",
      "execution_count": null,
      "metadata": {
        "id": "du1rFC_Z-fb_"
      },
      "outputs": [],
      "source": [
        "#dir(person)"
      ]
    },
    {
      "cell_type": "markdown",
      "metadata": {
        "id": "305938F9-fb_"
      },
      "source": [
        "<b> Exercise 6:</b> Define a dictionary to store the details of persons. Also, print some data from the dictionary.\n",
        " <p><b>Hint:</b> You may require nesting dictionary, lists, string inside the dictionary.</p>"
      ]
    },
    {
      "cell_type": "code",
      "execution_count": null,
      "metadata": {
        "id": "SLQHW6gQ-fb_"
      },
      "outputs": [],
      "source": [
        "employees = {1: {'Name': ['Rakin Sad Aftab'], 'Age': 21, 'Designation': ['Manager'], 'Gender': ['Male']}, \n",
        "             2: {'Name': ['Fatema Aftab'], 'Age': 14, 'Designation': ['Assistant Manager'], 'Gender': ['Female']},\n",
        "             3: {'Name': ['Alvin Zain Aftab'], 'Age': 10, 'Designation': ['HR'], 'Gender': ['Male']}}"
      ]
    },
    {
      "cell_type": "code",
      "execution_count": null,
      "metadata": {
        "id": "1x4mdcwu-fb_",
        "outputId": "8228f2df-5132-4a27-cb82-7ca2721a69e1"
      },
      "outputs": [
        {
          "name": "stdout",
          "output_type": "stream",
          "text": [
            "['Rakin Sad Aftab']\n",
            "21\n",
            "['Manager']\n",
            "['Male']\n",
            "['Fatema Aftab']\n",
            "14\n",
            "['Assistant Manager']\n",
            "['Female']\n",
            "['Alvin Zain Aftab']\n",
            "10\n",
            "['HR']\n",
            "['Male']\n"
          ]
        }
      ],
      "source": [
        "print(employees[1]['Name'])\n",
        "print(employees[1]['Age'])\n",
        "print(employees[1]['Designation'])\n",
        "print(employees[1]['Gender'])\n",
        "\n",
        "print(employees[2]['Name'])\n",
        "print(employees[2]['Age'])\n",
        "print(employees[2]['Designation'])\n",
        "print(employees[2]['Gender'])\n",
        "\n",
        "print(employees[3]['Name'])\n",
        "print(employees[3]['Age'])\n",
        "print(employees[3]['Designation'])\n",
        "print(employees[3]['Gender'])"
      ]
    },
    {
      "cell_type": "markdown",
      "metadata": {
        "id": "PMcrphda-fcA"
      },
      "source": [
        "# Tuples and Sets\n",
        "<b>Exercise 7: (Optional)</b> Use the content from [here](https://docs.python.org/3/tutorial/datastructures.html#tuples-and-sequences) to follow some examples on tuple and set."
      ]
    },
    {
      "cell_type": "code",
      "execution_count": null,
      "metadata": {
        "id": "MEH61FaN-fcA",
        "outputId": "dc466a15-e6fd-4c4c-df3e-ee5a87228ed1"
      },
      "outputs": [
        {
          "name": "stdout",
          "output_type": "stream",
          "text": [
            "('Rakin Sad Aftab', [1, 0, 1], (0, 1, 0))\n",
            "(0, 1, 0)\n",
            "(1, 'rakinsadaftab', 0)\n",
            "('Rakin Sad Aftab', [1, 1, 1], (0, 0, 0))\n"
          ]
        }
      ],
      "source": [
        "ras = ()                                                  # empty tuple\n",
        "print(rsa)\n",
        "\n",
        "rsa = (0, 1, 0)                                           # integers tuple\n",
        "print(rsa)\n",
        "\n",
        "rsa = (1, \"rakinsadaftab\", 0)                             # different types of values\n",
        "print(rsa)\n",
        "\n",
        "rsa = (\"Rakin Sad Aftab\", [1, 1, 1], (0, 0, 0))           # nested tuple\n",
        "print(rsa)"
      ]
    }
  ],
  "metadata": {
    "kernelspec": {
      "display_name": "Python 3 (ipykernel)",
      "language": "python",
      "name": "python3"
    },
    "language_info": {
      "codemirror_mode": {
        "name": "ipython",
        "version": 3
      },
      "file_extension": ".py",
      "mimetype": "text/x-python",
      "name": "python",
      "nbconvert_exporter": "python",
      "pygments_lexer": "ipython3",
      "version": "3.9.7"
    },
    "colab": {
      "name": "Week 01 Basic Python Data Structure.ipynb",
      "provenance": [],
      "include_colab_link": true
    }
  },
  "nbformat": 4,
  "nbformat_minor": 0
}