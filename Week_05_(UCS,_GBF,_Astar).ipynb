{
  "cells": [
    {
      "cell_type": "markdown",
      "metadata": {
        "id": "view-in-github",
        "colab_type": "text"
      },
      "source": [
        "<a href=\"https://colab.research.google.com/github/aftabrakinsad/AI/blob/master/Week_05_(UCS%2C_GBF%2C_Astar).ipynb\" target=\"_parent\"><img src=\"https://colab.research.google.com/assets/colab-badge.svg\" alt=\"Open In Colab\"/></a>"
      ]
    },
    {
      "cell_type": "code",
      "execution_count": null,
      "metadata": {
        "id": "goGfzJW8luYu"
      },
      "outputs": [],
      "source": [
        "romanian_map = {\n",
        "    'Arad': {'Sibiu':140, 'Zerind':75, 'Timisoara':118},\n",
        "    'Zerind': {'Arad':75, 'Oradea':71},\n",
        "    'Oradea': {'Zerind':71, 'Sibiu': 151},\n",
        "    'Sibiu': {'Arad':140, 'Oradea':151, 'Fagaras':99, 'Rimnicu':80},\n",
        "    'Timisoara': {'Arad': 118, 'Lugoj':111},\n",
        "    'Lugoj': {'Timisoara':111, 'Mehadia':70},\n",
        "    'Mehadia': {'Lugoj': 70, 'Drobeta':75},\n",
        "    'Drobeta': {'Mehadia':75, 'Craiova':120},\n",
        "    'Craiova': {'Drobeta': 120, 'Rimnicu': 146, 'Pitesti': 138},\n",
        "    'Rimnicu': {'Sibiu': 80, 'Craiova': 146, 'Pitesti': 97},\n",
        "    'Fagaras': {'Sibiu':99, 'Bucharest':211},\n",
        "    'Pitesti': {'Rimnicu': 97, 'Craiova':138, 'Bucharest':101},\n",
        "    'Bucharest': {'Fagaras':211, 'Pitesti': 101, 'Giurgiu':90, 'Urziceni':85},\n",
        "    'Giurgiu': {'Bucharest': 90},\n",
        "    'Urziceni': {'Bucharest': 85, 'Vaslui':142, 'Hirsova':98},\n",
        "    'Hirsova': {'Urziceni':98, 'Eforie':86},\n",
        "    'Eforie': {'Hirsova':86},\n",
        "    'Vaslui': {'Iasi': 92, 'Urziceni':142},\n",
        "    'Iasi': {'Vaslui':92, 'Neamt': 87},\n",
        "    'Neamt': {'Iasi':87}\n",
        "}"
      ]
    },
    {
      "cell_type": "markdown",
      "metadata": {
        "id": "KRCzk7hwluYx"
      },
      "source": [
        "# Uniform Cost Search"
      ]
    },
    {
      "cell_type": "code",
      "execution_count": null,
      "metadata": {
        "id": "Caz8BtEWluYy"
      },
      "outputs": [],
      "source": [
        "from queue import PriorityQueue\n",
        "\n",
        "\n",
        "def ucs(startingNode, destinationNode):\n",
        "    expanded = [] # to store expanded nodes\n",
        "    frontier = PriorityQueue()\n",
        "\n",
        "    snode = (0,startingNode,[startingNode]) #(g(n) = path cost, city name, path)\n",
        "    frontier.put(snode)\n",
        "    \n",
        "    while not frontier.empty():\n",
        "        unode = frontier.get() # select a node for expansion\n",
        "        u = unode[1] \n",
        "        if u == destinationNode:# goal test            \n",
        "            print(unode)\n",
        "            print(expanded)\n",
        "            return unode[2] # path\n",
        "        expanded.append(u)\n",
        "        for v in romanian_map[u].keys():#expanding            \n",
        "            if v not in expanded:\n",
        "                cost = unode[0] + romanian_map[u][v]\n",
        "                path = unode[2] + [v]\n",
        "                frontier.put((cost,v,path))\n",
        "                print(v + \", Cost: \" +str(cost))\n",
        "    print('Failed')"
      ]
    },
    {
      "cell_type": "code",
      "execution_count": null,
      "metadata": {
        "colab": {
          "base_uri": "https://localhost:8080/"
        },
        "id": "IwXpwVbKluYz",
        "outputId": "0010526f-4b5d-4ba7-d1e6-d4099a0c9096"
      },
      "outputs": [
        {
          "name": "stdout",
          "output_type": "stream",
          "text": [
            "Iasi, Cost: 87\n",
            "Vaslui, Cost: 179\n",
            "Urziceni, Cost: 321\n",
            "Bucharest, Cost: 406\n",
            "Hirsova, Cost: 419\n",
            "Fagaras, Cost: 617\n",
            "Pitesti, Cost: 507\n",
            "Giurgiu, Cost: 496\n",
            "Eforie, Cost: 505\n",
            "(505, 'Eforie', ['Neamt', 'Iasi', 'Vaslui', 'Urziceni', 'Hirsova', 'Eforie'])\n",
            "['Neamt', 'Iasi', 'Vaslui', 'Urziceni', 'Bucharest', 'Hirsova', 'Giurgiu']\n"
          ]
        },
        {
          "data": {
            "text/plain": [
              "['Neamt', 'Iasi', 'Vaslui', 'Urziceni', 'Hirsova', 'Eforie']"
            ]
          },
          "execution_count": 3,
          "metadata": {},
          "output_type": "execute_result"
        }
      ],
      "source": [
        "ucs('Neamt', 'Eforie') # change source and destination"
      ]
    },
    {
      "cell_type": "markdown",
      "metadata": {
        "id": "fKD43fSqluY2"
      },
      "source": [
        "# Greedy Best First Search"
      ]
    },
    {
      "cell_type": "code",
      "execution_count": null,
      "metadata": {
        "id": "Y355atJ_luY3"
      },
      "outputs": [],
      "source": [
        "# SLD heuristic for the destination (Bucharest)\n",
        "h = {'Arad': 366,'Zerind':  374,'Oradea': 380,'Sibiu': 253,\n",
        "    'Timisoara': 329,'Lugoj': 244,'Mehadia': 241,'Drobeta': 242,\n",
        "    'Craiova': 160,'Rimnicu': 193,'Fagaras': 176,'Pitesti': 100,\n",
        "    'Bucharest': 0,'Giurgiu': 77,'Urziceni': 80,'Hirsova': 151,\n",
        "    'Eforie': 161,'Vaslui': 199,'Iasi': 226,'Neamt': 234\n",
        "} "
      ]
    },
    {
      "cell_type": "code",
      "execution_count": null,
      "metadata": {
        "_cell_guid": "b1076dfc-b9ad-4769-8c92-a6c4dae69d19",
        "_uuid": "8f2839f25d086af736a60e9eeb907d3b93b6e0e5",
        "id": "h-1PIbWaluY4"
      },
      "outputs": [],
      "source": [
        "from queue import PriorityQueue\n",
        "\n",
        "def gbfs(startingNode, destinationNode):\n",
        "    expanded = [] # to store expanded nodes\n",
        "    frontier = PriorityQueue()\n",
        "\n",
        "    snode = (h[startingNode],startingNode,[startingNode],0) # (h, city, path, path cost)\n",
        "    frontier.put(snode)\n",
        "\n",
        "    while not frontier.empty():\n",
        "        unode = frontier.get() \n",
        "        u = unode[1]\n",
        "        \n",
        "        if u== destinationNode:#Goal Test            \n",
        "            print(unode)\n",
        "            print(expanded)\n",
        "            return unode[2] #path\n",
        "        expanded.append(u)\n",
        "        for v in romanian_map[u].keys():            \n",
        "            if v not in expanded:\n",
        "                cost = unode[3] + romanian_map[u][v]\n",
        "                path = unode[2]+[v]\n",
        "                frontier.put((h[v],v,path, cost))\n",
        "    print('Failed')"
      ]
    },
    {
      "cell_type": "code",
      "execution_count": null,
      "metadata": {
        "colab": {
          "base_uri": "https://localhost:8080/"
        },
        "id": "39lB5KBmluY6",
        "outputId": "da2274d5-1b3a-42ad-f0c5-ebc15fa5b8b1"
      },
      "outputs": [
        {
          "name": "stdout",
          "output_type": "stream",
          "text": [
            "(0, 'Bucharest', ['Lugoj', 'Mehadia', 'Drobeta', 'Craiova', 'Pitesti', 'Bucharest'], 504)\n",
            "['Lugoj', 'Mehadia', 'Drobeta', 'Craiova', 'Pitesti']\n"
          ]
        },
        {
          "data": {
            "text/plain": [
              "['Lugoj', 'Mehadia', 'Drobeta', 'Craiova', 'Pitesti', 'Bucharest']"
            ]
          },
          "execution_count": 6,
          "metadata": {},
          "output_type": "execute_result"
        }
      ],
      "source": [
        "gbfs('Lugoj', 'Bucharest') # change source only"
      ]
    },
    {
      "cell_type": "markdown",
      "metadata": {
        "id": "dDpUIOyWluY8"
      },
      "source": [
        "# A*"
      ]
    },
    {
      "cell_type": "code",
      "execution_count": null,
      "metadata": {
        "colab": {
          "base_uri": "https://localhost:8080/"
        },
        "id": "ddEDeRqPluY8",
        "outputId": "bb019ad8-f221-4f9a-d362-cf499048ce81"
      },
      "outputs": [
        {
          "name": "stdout",
          "output_type": "stream",
          "text": [
            "Path Cost = 504\n",
            "Path: ['Lugoj', 'Mehadia', 'Drobeta', 'Craiova', 'Pitesti', 'Bucharest']\n"
          ]
        }
      ],
      "source": [
        "from queue import PriorityQueue\n",
        " \n",
        "h = {'Arad': 366,'Zerind':  374,'Oradea': 380,'Sibiu': 253,\n",
        "    'Timisoara': 329,'Lugoj': 244,'Mehadia': 241,'Drobeta': 242,\n",
        "    'Craiova': 160,'Rimnicu': 193,'Fagaras': 176,'Pitesti': 100,\n",
        "    'Bucharest': 0,'Giurgiu': 77,'Urziceni': 80,'Hirsova': 151,\n",
        "    'Eforie': 161,'Vaslui': 199,'Iasi': 226,'Neamt': 234\n",
        "}\n",
        " \n",
        "def astarsearch(romanian_map, start, end):\n",
        "    queue = PriorityQueue()\n",
        "    queue.put((0 + h[start], [start]))\n",
        " \n",
        "    while not queue.empty():\n",
        "        node = queue.get()\n",
        "        current = node[1][len(node[1]) - 1]\n",
        " \n",
        "        if end in node[1]:\n",
        "            print(\"Path Cost = \" + str(node[0]))\n",
        "            print(\"Path: \" + str(node[1]))\n",
        "            break\n",
        " \n",
        "        cost = node[0] - h[current]\n",
        "        for v in romanian_map[current]:\n",
        "            temp = node[1][:]\n",
        "            temp.append(v)\n",
        "            queue.put((cost + romanian_map[current][v] + h[v], temp))\n",
        " \n",
        " \n",
        "astarsearch(romanian_map, \"Lugoj\", \"Bucharest\")"
      ]
    }
  ],
  "metadata": {
    "colab": {
      "collapsed_sections": [],
      "name": "Week 05 (UCS, GBF, Astar).ipynb",
      "provenance": [],
      "include_colab_link": true
    },
    "kernelspec": {
      "display_name": "Python 3 (ipykernel)",
      "language": "python",
      "name": "python3"
    },
    "language_info": {
      "codemirror_mode": {
        "name": "ipython",
        "version": 3
      },
      "file_extension": ".py",
      "mimetype": "text/x-python",
      "name": "python",
      "nbconvert_exporter": "python",
      "pygments_lexer": "ipython3",
      "version": "3.9.7"
    }
  },
  "nbformat": 4,
  "nbformat_minor": 0
}