{
  "cells": [
    {
      "cell_type": "markdown",
      "metadata": {
        "id": "view-in-github",
        "colab_type": "text"
      },
      "source": [
        "<a href=\"https://colab.research.google.com/github/aftabrakinsad/AI/blob/master/Week_09_CSP.ipynb\" target=\"_parent\"><img src=\"https://colab.research.google.com/assets/colab-badge.svg\" alt=\"Open In Colab\"/></a>"
      ]
    },
    {
      "cell_type": "code",
      "execution_count": null,
      "metadata": {
        "id": "hYW2TIWObnCK"
      },
      "outputs": [],
      "source": [
        "# Define a new cgraph\n",
        "gazpur_map = {'GS': ['KG', 'KP', 'KC', 'JP', 'SP'],\n",
        "          'KG': ['SA', 'NT', 'NS'], \n",
        "          'KP': ['DA', 'AD', 'DD'],\n",
        "          'KC': ['AP', 'NW'], \n",
        "          'JP': ['JC', 'PN', 'BL',], \n",
        "          'SP': ['GS', 'HM', 'SA'], \n",
        "          'CG': ['GS', 'AD', 'SA']}"
      ]
    },
    {
      "cell_type": "code",
      "execution_count": null,
      "metadata": {
        "id": "9O9871h6bnCN"
      },
      "outputs": [],
      "source": [
        "import random\n",
        "def get_color(node, rv, cg):\n",
        "    # CODE\n",
        "    # check rv[node] is empty or not when no color availabe\n",
        "    # return 'no color'\n",
        "    color = random.choice(rv[node])\n",
        "    rv.pop(node)\n",
        "    # update remaining values for neihbouring node\n",
        "    adjList = cg[node]\n",
        "    for adj in adjList:\n",
        "        if adj in rv.keys():\n",
        "            rv[adj].remove(color)\n",
        "    #print(adjList)\n",
        "    return color"
      ]
    },
    {
      "cell_type": "markdown",
      "metadata": {
        "id": "j8ywr8eQbnCN"
      },
      "source": [
        "## Highest Degree Node"
      ]
    },
    {
      "cell_type": "code",
      "execution_count": null,
      "metadata": {
        "id": "hDpTD2onbnCO"
      },
      "outputs": [],
      "source": [
        "# write a method to get the highest degree node\n",
        "def get_hdnode(cg, solved):\n",
        "    mnode = ''\n",
        "    degree = -1\n",
        "    for k in cg.keys():\n",
        "        if len(cg[k])  > degree and k not in solved.keys():\n",
        "            #print(k)\n",
        "            degree = len(cg[k])\n",
        "            mnode = k\n",
        "    return mnode"
      ]
    },
    {
      "cell_type": "markdown",
      "metadata": {
        "id": "ylzC1XBQbnCP"
      },
      "source": [
        "Color the nodes using Highest degree heuristic"
      ]
    },
    {
      "cell_type": "code",
      "execution_count": null,
      "metadata": {
        "id": "iHlkL3lJbnCP",
        "outputId": "b0b7210f-0ca9-4b66-8c50-efe39e822434",
        "colab": {
          "base_uri": "https://localhost:8080/"
        }
      },
      "outputs": [
        {
          "output_type": "stream",
          "name": "stdout",
          "text": [
            "assigned: {'GS': 'B'}\n",
            "rv: {'KG': ['R', 'G'], 'KP': ['R', 'G'], 'KC': ['R', 'G'], 'JP': ['R', 'G'], 'SP': ['R', 'G'], 'CG': ['R', 'G', 'B']}\n",
            "assigned: {'GS': 'B', 'KG': 'R'}\n",
            "rv: {'KP': ['R', 'G'], 'KC': ['R', 'G'], 'JP': ['R', 'G'], 'SP': ['R', 'G'], 'CG': ['R', 'G', 'B']}\n",
            "assigned: {'GS': 'B', 'KG': 'R', 'KP': 'R'}\n",
            "rv: {'KC': ['R', 'G'], 'JP': ['R', 'G'], 'SP': ['R', 'G'], 'CG': ['R', 'G', 'B']}\n",
            "assigned: {'GS': 'B', 'KG': 'R', 'KP': 'R', 'JP': 'G'}\n",
            "rv: {'KC': ['R', 'G'], 'SP': ['R', 'G'], 'CG': ['R', 'G', 'B']}\n",
            "assigned: {'GS': 'B', 'KG': 'R', 'KP': 'R', 'JP': 'G', 'SP': 'G'}\n",
            "rv: {'KC': ['R', 'G'], 'CG': ['R', 'G', 'B']}\n",
            "assigned: {'GS': 'B', 'KG': 'R', 'KP': 'R', 'JP': 'G', 'SP': 'G', 'CG': 'R'}\n",
            "rv: {'KC': ['R', 'G']}\n",
            "assigned: {'GS': 'B', 'KG': 'R', 'KP': 'R', 'JP': 'G', 'SP': 'G', 'CG': 'R', 'KC': 'G'}\n",
            "rv: {}\n"
          ]
        }
      ],
      "source": [
        "assigned = {} # store assigned variables with colors\n",
        "remainingValues = {'GS': ['R','G','B'], \n",
        "                    'KG': ['R','G','B'],\n",
        "                    'KP': ['R','G','B'],\n",
        "                    'KC':  ['R','G','B'], \n",
        "                    'JP': ['R','G','B'],\n",
        "                    'SP': ['R','G','B'],                    \n",
        "                    'CG': ['R','G','B']}\n",
        "\n",
        "for i in range(len(gazpur_map)):\n",
        "    # assign color to the highest degree node\n",
        "    hdNode = get_hdnode(gazpur_map, assigned)\n",
        "    color = get_color(hdNode, remainingValues, gazpur_map)\n",
        "    # CODE\n",
        "    # check if 'no color' is returned\n",
        "    # print failure\n",
        "\n",
        "    assigned[hdNode]= color\n",
        "    print('assigned: ', end=\"\")\n",
        "    print(assigned)\n",
        "    print('rv: ', end=\"\")\n",
        "    print(remainingValues)\n"
      ]
    },
    {
      "cell_type": "markdown",
      "metadata": {
        "id": "c7h2vdiTbnCQ"
      },
      "source": [
        "## Minimum Remaining Value"
      ]
    },
    {
      "cell_type": "code",
      "execution_count": null,
      "metadata": {
        "id": "zYiGg6q1bnCQ"
      },
      "outputs": [],
      "source": [
        "# define a method to select a node by MRV\n",
        "def get_MRVnode(rv, answer):\n",
        "    # CODE\n",
        "    MRVnode = ''\n",
        "    val = 4\n",
        "    for k in rv.keys():\n",
        "        if len(rv[k])  <= val and k not in answer.keys():\n",
        "            val = len(rv[k])\n",
        "            MRVnode = k\n",
        "    return MRVnode"
      ]
    },
    {
      "cell_type": "markdown",
      "metadata": {
        "id": "4CHiqApobnCR"
      },
      "source": [
        "Color the nodes using MRV heuristic"
      ]
    },
    {
      "cell_type": "code",
      "execution_count": null,
      "metadata": {
        "id": "-WkGNPrsbnCR",
        "colab": {
          "base_uri": "https://localhost:8080/"
        },
        "outputId": "99d4b61a-2a57-4e37-b2d2-cde4c191ef0b"
      },
      "outputs": [
        {
          "output_type": "stream",
          "name": "stdout",
          "text": [
            "{'GS': ['R', 'G'], 'KG': ['R', 'G', 'B'], 'KP': ['R', 'G', 'B'], 'KC': ['R', 'G', 'B'], 'JP': ['R', 'G', 'B'], 'SP': ['R', 'G', 'B']}\n",
            "{'CG': 'B'}\n",
            "{'KG': ['R', 'B'], 'KP': ['R', 'B'], 'KC': ['R', 'B'], 'JP': ['R', 'B'], 'SP': ['R', 'B']}\n",
            "{'CG': 'B', 'GS': 'G'}\n",
            "{'KG': ['R', 'B'], 'KP': ['R', 'B'], 'KC': ['R', 'B'], 'JP': ['R', 'B']}\n",
            "{'CG': 'B', 'GS': 'G', 'SP': 'R'}\n",
            "{'KG': ['R', 'B'], 'KP': ['R', 'B'], 'KC': ['R', 'B']}\n",
            "{'CG': 'B', 'GS': 'G', 'SP': 'R', 'JP': 'B'}\n",
            "{'KG': ['R', 'B'], 'KP': ['R', 'B']}\n",
            "{'CG': 'B', 'GS': 'G', 'SP': 'R', 'JP': 'B', 'KC': 'R'}\n",
            "{'KG': ['R', 'B']}\n",
            "{'CG': 'B', 'GS': 'G', 'SP': 'R', 'JP': 'B', 'KC': 'R', 'KP': 'R'}\n",
            "{}\n",
            "{'CG': 'B', 'GS': 'G', 'SP': 'R', 'JP': 'B', 'KC': 'R', 'KP': 'R', 'KG': 'B'}\n"
          ]
        }
      ],
      "source": [
        "assigned = {}\n",
        "\n",
        "remainingValues = {'GS': ['R','G','B'], \n",
        "                    'KG': ['R','G','B'],\n",
        "                    'KP': ['R','G','B'],\n",
        "                    'KC':  ['R','G','B'], \n",
        "                    'JP': ['R','G','B'],\n",
        "                    'SP': ['R','G','B'],                    \n",
        "                    'CG': ['R','G','B']}\n",
        "\n",
        "for i in range(len(gazpur_map)):\n",
        "    # assign color to the highest degree node\n",
        "    mrvNode = get_MRVnode(remainingValues, assigned)\n",
        "    color = get_color(mrvNode, remainingValues, gazpur_map)\n",
        "    # CODE\n",
        "    # check if 'no color' is returned\n",
        "    # print failure\n",
        "\n",
        "    assigned[mrvNode]= color\n",
        "    print(remainingValues)\n",
        "    print(assigned)"
      ]
    }
  ],
  "metadata": {
    "kernelspec": {
      "display_name": "Python 3",
      "language": "python",
      "name": "python3"
    },
    "language_info": {
      "codemirror_mode": {
        "name": "ipython",
        "version": 3
      },
      "file_extension": ".py",
      "mimetype": "text/x-python",
      "name": "python",
      "nbconvert_exporter": "python",
      "pygments_lexer": "ipython3",
      "version": "3.8.5"
    },
    "colab": {
      "name": "Week 09 CSP.ipynb",
      "provenance": [],
      "collapsed_sections": [],
      "include_colab_link": true
    }
  },
  "nbformat": 4,
  "nbformat_minor": 0
}