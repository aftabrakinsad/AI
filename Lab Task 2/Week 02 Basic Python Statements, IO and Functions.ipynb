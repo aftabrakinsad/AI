{
 "cells": [
  {
   "cell_type": "markdown",
   "metadata": {
    "id": "gVdgbvf19OA9"
   },
   "source": [
    "# About this notebook\n",
    "<p style=\"text-align: justify\"> Here, you will learn the basic statements of python and function. Some codes will be given for demonstration. Some other codes, you will do as excercise.</p>\n",
    "\n",
    "## Submission\n",
    "<p style=\"text-align: justify\">After completing the practice codes and exercises, submit the notebook (.ipynb file) to corresponding Intern through Microsoft Teams</p>\n",
    "<p> 1.<b> You must submit your own code</b>. If similarity found negative marking will be given.</p>\n",
    "<p> 2. Do not change the file name.</p>\n",
    "<p> 3. Other file format will not be accepted.</p>"
   ]
  },
  {
   "cell_type": "markdown",
   "metadata": {
    "id": "sVSQpyqT9OBH"
   },
   "source": [
    "# User Input"
   ]
  },
  {
   "cell_type": "code",
   "execution_count": 67,
   "metadata": {
    "executionInfo": {
     "elapsed": 7,
     "status": "ok",
     "timestamp": 1643601001215,
     "user": {
      "displayName": "Ashraf Uddin",
      "photoUrl": "https://lh3.googleusercontent.com/a-/AOh14GjBdAa8YVVeKPAj-6WRIHqgGMOom16hPYcrG5tkEw=s64",
      "userId": "01747740824393644374"
     },
     "user_tz": -360
    },
    "id": "h-YJOw3rQLxN"
   },
   "outputs": [],
   "source": [
    "b=9"
   ]
  },
  {
   "cell_type": "code",
   "execution_count": null,
   "metadata": {
    "colab": {
     "base_uri": "https://localhost:8080/"
    },
    "executionInfo": {
     "elapsed": 462,
     "status": "ok",
     "timestamp": 1643597032483,
     "user": {
      "displayName": "Ashraf Uddin",
      "photoUrl": "https://lh3.googleusercontent.com/a-/AOh14GjBdAa8YVVeKPAj-6WRIHqgGMOom16hPYcrG5tkEw=s64",
      "userId": "01747740824393644374"
     },
     "user_tz": -360
    },
    "id": "JPTt3qbo9OBI",
    "outputId": "9f394590-a805-4c01-d220-7fa0754c46ae"
   },
   "outputs": [
    {
     "name": "stdout",
     "output_type": "stream",
     "text": [
      "21\n"
     ]
    }
   ],
   "source": [
    "a = 21\n",
    "print(a)"
   ]
  },
  {
   "cell_type": "code",
   "execution_count": null,
   "metadata": {
    "colab": {
     "base_uri": "https://localhost:8080/"
    },
    "executionInfo": {
     "elapsed": 4733,
     "status": "ok",
     "timestamp": 1643597232103,
     "user": {
      "displayName": "Ashraf Uddin",
      "photoUrl": "https://lh3.googleusercontent.com/a-/AOh14GjBdAa8YVVeKPAj-6WRIHqgGMOom16hPYcrG5tkEw=s64",
      "userId": "01747740824393644374"
     },
     "user_tz": -360
    },
    "id": "WgnNFESa9OBL",
    "outputId": "ee17848a-730a-4af4-f461-7b8be37af04c"
   },
   "outputs": [
    {
     "name": "stdout",
     "output_type": "stream",
     "text": [
      "Enter a value: 32\n",
      "The given value is 32\n",
      "<class 'str'>\n"
     ]
    }
   ],
   "source": [
    "a = input('Enter a value: ') # always returns string\n",
    "print('The given value is '+ a)\n",
    "print(type(a))"
   ]
  },
  {
   "cell_type": "code",
   "execution_count": null,
   "metadata": {
    "colab": {
     "base_uri": "https://localhost:8080/"
    },
    "executionInfo": {
     "elapsed": 4639,
     "status": "ok",
     "timestamp": 1643597610217,
     "user": {
      "displayName": "Ashraf Uddin",
      "photoUrl": "https://lh3.googleusercontent.com/a-/AOh14GjBdAa8YVVeKPAj-6WRIHqgGMOom16hPYcrG5tkEw=s64",
      "userId": "01747740824393644374"
     },
     "user_tz": -360
    },
    "id": "qGfffqzZ9OBM",
    "outputId": "becbc75a-9aac-48d0-cc2f-64d453603ad2"
   },
   "outputs": [
    {
     "name": "stdout",
     "output_type": "stream",
     "text": [
      "Enter a number: 77\n",
      "The given value is 77\n",
      "<class 'int'>\n"
     ]
    }
   ],
   "source": [
    "a = int(input('Enter a number: ')) # returns string but converted to int\n",
    "print('The given value is '+ str(a))\n",
    "print(type(a))"
   ]
  },
  {
   "cell_type": "code",
   "execution_count": null,
   "metadata": {
    "colab": {
     "base_uri": "https://localhost:8080/"
    },
    "executionInfo": {
     "elapsed": 4646,
     "status": "ok",
     "timestamp": 1643598255315,
     "user": {
      "displayName": "Ashraf Uddin",
      "photoUrl": "https://lh3.googleusercontent.com/a-/AOh14GjBdAa8YVVeKPAj-6WRIHqgGMOom16hPYcrG5tkEw=s64",
      "userId": "01747740824393644374"
     },
     "user_tz": -360
    },
    "id": "HYTFoD0I9OBN",
    "outputId": "7d7bc9a9-c085-4dea-f3f7-04e8b984d61f"
   },
   "outputs": [
    {
     "name": "stdout",
     "output_type": "stream",
     "text": [
      "Enter a number: 88\n",
      "The given value is 88\n",
      "108\n"
     ]
    }
   ],
   "source": [
    "while True:\n",
    "  a = input('Enter a number: ')\n",
    "  if a.isdigit():\n",
    "    print('The given value is '+ str(a))\n",
    "    print(int(a) + 20)\n",
    "    break\n",
    "  print('WRONG INPUT')\n"
   ]
  },
  {
   "cell_type": "markdown",
   "metadata": {
    "id": "yd5uai6a9OBO"
   },
   "source": [
    "# if statement\n",
    "There can be zero or more elif parts, and the else part is optional. The keyword ‘elif’ is short for ‘else if’"
   ]
  },
  {
   "cell_type": "code",
   "execution_count": null,
   "metadata": {
    "colab": {
     "base_uri": "https://localhost:8080/"
    },
    "executionInfo": {
     "elapsed": 474,
     "status": "ok",
     "timestamp": 1643598458578,
     "user": {
      "displayName": "Ashraf Uddin",
      "photoUrl": "https://lh3.googleusercontent.com/a-/AOh14GjBdAa8YVVeKPAj-6WRIHqgGMOom16hPYcrG5tkEw=s64",
      "userId": "01747740824393644374"
     },
     "user_tz": -360
    },
    "id": "bkNWtGEA9OBP",
    "outputId": "999059ed-94e5-400c-df06-f7f8e34b0be4"
   },
   "outputs": [
    {
     "name": "stdout",
     "output_type": "stream",
     "text": [
      "okay\n",
      "fine\n"
     ]
    }
   ],
   "source": [
    "# indent\n",
    "i = 3\n",
    "if i < 5: # () not required, {} not required\n",
    "    print('okay')\n",
    "    print('fine')\n",
    "else:\n",
    "    print('bad')\n",
    "    print('not okay') # will be executed in each run"
   ]
  },
  {
   "cell_type": "code",
   "execution_count": 7,
   "metadata": {
    "colab": {
     "base_uri": "https://localhost:8080/"
    },
    "executionInfo": {
     "elapsed": 7063,
     "status": "ok",
     "timestamp": 1643598519373,
     "user": {
      "displayName": "Ashraf Uddin",
      "photoUrl": "https://lh3.googleusercontent.com/a-/AOh14GjBdAa8YVVeKPAj-6WRIHqgGMOom16hPYcrG5tkEw=s64",
      "userId": "01747740824393644374"
     },
     "user_tz": -360
    },
    "id": "4-2lHhfa9OBQ",
    "outputId": "8fe59a4c-615d-4d3b-e3d0-a467780edb04"
   },
   "outputs": [
    {
     "name": "stdout",
     "output_type": "stream",
     "text": [
      "Please enter an integer: 1\n",
      "Single\n"
     ]
    }
   ],
   "source": [
    "x = int(input(\"Please enter an integer: \"))\n",
    "if x < 0:\n",
    "    x = 0\n",
    "    print('Negative changed to zero')\n",
    "elif x == 0:\n",
    "    print('Zero')\n",
    "elif x == 1:\n",
    "    print('Single')\n",
    "else:\n",
    "    print('More')"
   ]
  },
  {
   "cell_type": "markdown",
   "metadata": {
    "id": "CeTgipag9OBR"
   },
   "source": [
    "<b>Exercise 1:</b> Take a number (0-100) from user and Use if statement to print corresponiding grade."
   ]
  },
  {
   "cell_type": "code",
   "execution_count": 13,
   "metadata": {
    "id": "75nu_spY9OBS"
   },
   "outputs": [
    {
     "name": "stdout",
     "output_type": "stream",
     "text": [
      "Please enter your mark: 88\n",
      "Your grade is: A\n"
     ]
    }
   ],
   "source": [
    "r = int(input(\"Please enter your mark: \"))\n",
    "\n",
    "if r >= 90 and r <= 100:\n",
    "    print('Your grade is: A+');\n",
    "elif r >= 85 and r <= 90:\n",
    "    print('Your grade is: A')\n",
    "elif r >= 80 and r <= 85:\n",
    "    print('Your grade is: B+')\n",
    "elif r >= 75 and r <= 80:\n",
    "    print('Your grade is: B')\n",
    "elif r >= 70 and r <= 75:\n",
    "    print('Your grade is: C+')\n",
    "elif r >= 65 and r <= 70:\n",
    "    print('Your grade is: C')\n",
    "elif r >= 60 and r <= 65:\n",
    "    print('Your grade is: D+')\n",
    "elif r >= 50 and r <= 60:\n",
    "    print('Your grade is: D')\n",
    "elif r < 50:\n",
    "    print('Your grade is: F')"
   ]
  },
  {
   "cell_type": "markdown",
   "metadata": {
    "id": "BLPDtgWr9OBT"
   },
   "source": [
    "# for statement\n",
    "<p style=\"text-align: justify\">The for statement in Python differs a bit from what you may be used to in C or C++. Rather than always giving the user the ability to define both the iteration step and halting condition, Python’s for statement iterates over the items of any sequence (a list or a string), in the order that they appear in the sequence.</p>"
   ]
  },
  {
   "cell_type": "code",
   "execution_count": null,
   "metadata": {
    "colab": {
     "base_uri": "https://localhost:8080/"
    },
    "executionInfo": {
     "elapsed": 461,
     "status": "ok",
     "timestamp": 1643598806836,
     "user": {
      "displayName": "Ashraf Uddin",
      "photoUrl": "https://lh3.googleusercontent.com/a-/AOh14GjBdAa8YVVeKPAj-6WRIHqgGMOom16hPYcrG5tkEw=s64",
      "userId": "01747740824393644374"
     },
     "user_tz": -360
    },
    "id": "k6eiUKVF9OBU",
    "outputId": "90d37111-9d8a-49bd-a28b-e4227dd2c271"
   },
   "outputs": [
    {
     "name": "stdout",
     "output_type": "stream",
     "text": [
      "cat 3\n",
      "window 6\n",
      "dhaka 5\n",
      "jack 4\n"
     ]
    }
   ],
   "source": [
    "# Measure some strings:\n",
    "words = ['cat', 'window', 'dhaka', 'jack']\n",
    "for w in words:\n",
    "    print(w, len(w))"
   ]
  },
  {
   "cell_type": "code",
   "execution_count": null,
   "metadata": {
    "colab": {
     "base_uri": "https://localhost:8080/"
    },
    "executionInfo": {
     "elapsed": 508,
     "status": "ok",
     "timestamp": 1643599187478,
     "user": {
      "displayName": "Ashraf Uddin",
      "photoUrl": "https://lh3.googleusercontent.com/a-/AOh14GjBdAa8YVVeKPAj-6WRIHqgGMOom16hPYcrG5tkEw=s64",
      "userId": "01747740824393644374"
     },
     "user_tz": -360
    },
    "id": "gxRxRU9B9OBW",
    "outputId": "06a3b852-a59a-436b-c447-b6fe7a6342ea"
   },
   "outputs": [
    {
     "name": "stdout",
     "output_type": "stream",
     "text": [
      "11\n",
      "66\n",
      "88\n",
      "18\n"
     ]
    }
   ],
   "source": [
    "numbers = [1, 56, 78, 8]\n",
    "\n",
    "for n in numbers:\n",
    "    print(n+10)"
   ]
  },
  {
   "cell_type": "markdown",
   "metadata": {
    "id": "OnIIzz_29OBX"
   },
   "source": [
    "### The range() Function\n",
    "If you do need to iterate over a sequence of numbers, the built-in function range() comes in handy. It generates arithmetic progressions:"
   ]
  },
  {
   "cell_type": "code",
   "execution_count": null,
   "metadata": {
    "colab": {
     "base_uri": "https://localhost:8080/"
    },
    "executionInfo": {
     "elapsed": 558,
     "status": "ok",
     "timestamp": 1643599074062,
     "user": {
      "displayName": "Ashraf Uddin",
      "photoUrl": "https://lh3.googleusercontent.com/a-/AOh14GjBdAa8YVVeKPAj-6WRIHqgGMOom16hPYcrG5tkEw=s64",
      "userId": "01747740824393644374"
     },
     "user_tz": -360
    },
    "id": "eIvd_Nhy9OBY",
    "outputId": "e6276126-74da-4baf-ed62-fb8c4123dd88"
   },
   "outputs": [
    {
     "name": "stdout",
     "output_type": "stream",
     "text": [
      "0\n",
      "1\n",
      "2\n",
      "3\n",
      "4\n"
     ]
    }
   ],
   "source": [
    "for i in range(5):# repeated for 0 to 4\n",
    "    print(i)"
   ]
  },
  {
   "cell_type": "markdown",
   "metadata": {
    "id": "Tdu8trNj9OBZ"
   },
   "source": [
    "<p style=\"text-align: justify\">The given end point is never part of the generated sequence; range(10) generates 10 values, the legal indices for items of a sequence of length 10. It is possible to let the range start at another number, or to specify a different increment (even negative; sometimes this is called the ‘step’):</p>"
   ]
  },
  {
   "cell_type": "code",
   "execution_count": null,
   "metadata": {
    "colab": {
     "base_uri": "https://localhost:8080/"
    },
    "executionInfo": {
     "elapsed": 450,
     "status": "ok",
     "timestamp": 1643599129965,
     "user": {
      "displayName": "Ashraf Uddin",
      "photoUrl": "https://lh3.googleusercontent.com/a-/AOh14GjBdAa8YVVeKPAj-6WRIHqgGMOom16hPYcrG5tkEw=s64",
      "userId": "01747740824393644374"
     },
     "user_tz": -360
    },
    "id": "0l562ow69OBZ",
    "outputId": "ad28609d-61b6-4bac-a08c-7645c2281e0d"
   },
   "outputs": [
    {
     "data": {
      "text/plain": [
       "[5, 6, 7, 8, 9]"
      ]
     },
     "execution_count": 29,
     "metadata": {},
     "output_type": "execute_result"
    }
   ],
   "source": [
    "list(range(5, 10))"
   ]
  },
  {
   "cell_type": "code",
   "execution_count": null,
   "metadata": {
    "colab": {
     "base_uri": "https://localhost:8080/"
    },
    "executionInfo": {
     "elapsed": 464,
     "status": "ok",
     "timestamp": 1643599135258,
     "user": {
      "displayName": "Ashraf Uddin",
      "photoUrl": "https://lh3.googleusercontent.com/a-/AOh14GjBdAa8YVVeKPAj-6WRIHqgGMOom16hPYcrG5tkEw=s64",
      "userId": "01747740824393644374"
     },
     "user_tz": -360
    },
    "id": "7cGVhf0o9OBa",
    "outputId": "cea1ecc8-87d0-4459-8a82-be7e8f3c87d5"
   },
   "outputs": [
    {
     "data": {
      "text/plain": [
       "[0, 3, 6, 9]"
      ]
     },
     "execution_count": 30,
     "metadata": {},
     "output_type": "execute_result"
    }
   ],
   "source": [
    "list(range(0, 10, 3))"
   ]
  },
  {
   "cell_type": "code",
   "execution_count": null,
   "metadata": {
    "colab": {
     "base_uri": "https://localhost:8080/"
    },
    "executionInfo": {
     "elapsed": 463,
     "status": "ok",
     "timestamp": 1643599153345,
     "user": {
      "displayName": "Ashraf Uddin",
      "photoUrl": "https://lh3.googleusercontent.com/a-/AOh14GjBdAa8YVVeKPAj-6WRIHqgGMOom16hPYcrG5tkEw=s64",
      "userId": "01747740824393644374"
     },
     "user_tz": -360
    },
    "id": "NySucrFE9OBa",
    "outputId": "009260af-b65c-4460-8e48-13beeb6575ae"
   },
   "outputs": [
    {
     "data": {
      "text/plain": [
       "[-10, -40, -70]"
      ]
     },
     "execution_count": 31,
     "metadata": {},
     "output_type": "execute_result"
    }
   ],
   "source": [
    "list(range(-10, -100, -30))"
   ]
  },
  {
   "cell_type": "code",
   "execution_count": null,
   "metadata": {
    "colab": {
     "base_uri": "https://localhost:8080/"
    },
    "executionInfo": {
     "elapsed": 503,
     "status": "ok",
     "timestamp": 1643599220040,
     "user": {
      "displayName": "Ashraf Uddin",
      "photoUrl": "https://lh3.googleusercontent.com/a-/AOh14GjBdAa8YVVeKPAj-6WRIHqgGMOom16hPYcrG5tkEw=s64",
      "userId": "01747740824393644374"
     },
     "user_tz": -360
    },
    "id": "XF2vWGQb9OBb",
    "outputId": "2f9d1fd0-ded7-4472-e80b-8e68b5e8fd7d"
   },
   "outputs": [
    {
     "name": "stdout",
     "output_type": "stream",
     "text": [
      "0 1\n",
      "1 56\n",
      "2 78\n",
      "3 8\n"
     ]
    }
   ],
   "source": [
    "for i in range(len(numbers)):\n",
    "    print(i, numbers[i])"
   ]
  },
  {
   "cell_type": "code",
   "execution_count": null,
   "metadata": {
    "colab": {
     "base_uri": "https://localhost:8080/"
    },
    "executionInfo": {
     "elapsed": 10,
     "status": "ok",
     "timestamp": 1643599242652,
     "user": {
      "displayName": "Ashraf Uddin",
      "photoUrl": "https://lh3.googleusercontent.com/a-/AOh14GjBdAa8YVVeKPAj-6WRIHqgGMOom16hPYcrG5tkEw=s64",
      "userId": "01747740824393644374"
     },
     "user_tz": -360
    },
    "id": "O4fHt_Qt9OBb",
    "outputId": "4d0044e2-87c6-4b13-aaef-d8404576eff3"
   },
   "outputs": [
    {
     "name": "stdout",
     "output_type": "stream",
     "text": [
      "2 7 12 17 22 27 32 37 42 47 52 57 62 67 72 77 82 87 92 97 "
     ]
    }
   ],
   "source": [
    "for i in range(2,100,5):\n",
    "    print(i, end = ' ')"
   ]
  },
  {
   "cell_type": "markdown",
   "metadata": {
    "id": "_0M3Y1F09OBc"
   },
   "source": [
    "<b>Exercise 2:</b> Print all the even numbers between 0 to 100 using for and range."
   ]
  },
  {
   "cell_type": "code",
   "execution_count": 6,
   "metadata": {
    "id": "nzKgmsMy9OBc"
   },
   "outputs": [
    {
     "name": "stdout",
     "output_type": "stream",
     "text": [
      "0 2 4 6 8 10 12 14 16 18 20 22 24 26 28 30 32 34 36 38 40 42 44 46 48 50 52 54 56 58 60 62 64 66 68 70 72 74 76 78 80 82 84 86 88 90 92 94 96 98 100 "
     ]
    }
   ],
   "source": [
    "for n in range(0, 101):\n",
    "    if n  % 2 == 0:\n",
    "        print(n, end = \" \")"
   ]
  },
  {
   "cell_type": "code",
   "execution_count": 2,
   "metadata": {
    "colab": {
     "base_uri": "https://localhost:8080/"
    },
    "executionInfo": {
     "elapsed": 443,
     "status": "ok",
     "timestamp": 1643599310705,
     "user": {
      "displayName": "Ashraf Uddin",
      "photoUrl": "https://lh3.googleusercontent.com/a-/AOh14GjBdAa8YVVeKPAj-6WRIHqgGMOom16hPYcrG5tkEw=s64",
      "userId": "01747740824393644374"
     },
     "user_tz": -360
    },
    "id": "CxyodY3I9OBd",
    "outputId": "d02fd0e8-322d-44d7-e862-1728ef31c592"
   },
   "outputs": [
    {
     "name": "stdout",
     "output_type": "stream",
     "text": [
      "b,a,n,g,l,a,d,e,s,h,"
     ]
    }
   ],
   "source": [
    "country = \"bangladesh\"\n",
    "for c in country: \n",
    "    print(c,end=',')"
   ]
  },
  {
   "cell_type": "markdown",
   "metadata": {
    "id": "UpWE7Kch9OBd"
   },
   "source": [
    "# Functions\n",
    "<p style=\"text-align: justify\">The keyword def introduces a function definition. It must be followed by the function name and the parenthesized list of formal parameters. The statements that form the body of the function start at the next line, and must be indented.</p>"
   ]
  },
  {
   "cell_type": "code",
   "execution_count": null,
   "metadata": {
    "id": "YRU1pFyIKR5B"
   },
   "outputs": [],
   "source": [
    "def operate(a, b):\n",
    "  print(str(a) + ' + ' + str(b) + ' = ' + str(a+b))\n",
    "  print(str(a) + ' - ' + str(b) + ' = ' + str(a-b))\n",
    "  print(str(a) + ' x ' + str(b) + ' = ' + str(a*b))\n",
    "  print(str(a) + ' / ' + str(b) + ' = ' + str(a/b))"
   ]
  },
  {
   "cell_type": "code",
   "execution_count": null,
   "metadata": {
    "colab": {
     "base_uri": "https://localhost:8080/"
    },
    "executionInfo": {
     "elapsed": 399,
     "status": "ok",
     "timestamp": 1643599798625,
     "user": {
      "displayName": "Ashraf Uddin",
      "photoUrl": "https://lh3.googleusercontent.com/a-/AOh14GjBdAa8YVVeKPAj-6WRIHqgGMOom16hPYcrG5tkEw=s64",
      "userId": "01747740824393644374"
     },
     "user_tz": -360
    },
    "id": "x-UAfujIK6-k",
    "outputId": "2f7332cc-7871-4fd6-fdbf-e6b6d86ec9c7"
   },
   "outputs": [
    {
     "name": "stdout",
     "output_type": "stream",
     "text": [
      "9 + 25 = 34\n",
      "9 - 25 = -16\n",
      "9 x 25 = 225\n",
      "9 / 25 = 0.36\n"
     ]
    }
   ],
   "source": [
    "operate(9,25)"
   ]
  },
  {
   "cell_type": "code",
   "execution_count": null,
   "metadata": {
    "id": "zZaBBUgb9OBd"
   },
   "outputs": [],
   "source": [
    "def fib(n):    # write Fibonacci series up to n\n",
    "    \"\"\"Print a Fibonacci series up to n.\"\"\"\n",
    "    a, b = 0, 1\n",
    "    while a < n:\n",
    "        print(a, end=' ')\n",
    "        a, b = b, a+b\n",
    "        #print()"
   ]
  },
  {
   "cell_type": "code",
   "execution_count": null,
   "metadata": {
    "colab": {
     "base_uri": "https://localhost:8080/"
    },
    "executionInfo": {
     "elapsed": 399,
     "status": "ok",
     "timestamp": 1643599954517,
     "user": {
      "displayName": "Ashraf Uddin",
      "photoUrl": "https://lh3.googleusercontent.com/a-/AOh14GjBdAa8YVVeKPAj-6WRIHqgGMOom16hPYcrG5tkEw=s64",
      "userId": "01747740824393644374"
     },
     "user_tz": -360
    },
    "id": "aFCr3Pc99OBe",
    "outputId": "10a57da8-95eb-4c71-8348-760dd1ef5cdd"
   },
   "outputs": [
    {
     "name": "stdout",
     "output_type": "stream",
     "text": [
      "0 1 1 2 3 5 8 13 21 34 55 89 144 233 377 610 987 "
     ]
    }
   ],
   "source": [
    "# Now call the function we just defined:\n",
    "fib(1000)"
   ]
  },
  {
   "cell_type": "code",
   "execution_count": null,
   "metadata": {
    "id": "_SueK7ww9OBe"
   },
   "outputs": [],
   "source": [
    "# define method\n",
    "def addnumbers(a, b): # add numbers and return result\n",
    "    # logic\n",
    "    c = a + b\n",
    "    return c"
   ]
  },
  {
   "cell_type": "code",
   "execution_count": null,
   "metadata": {
    "colab": {
     "base_uri": "https://localhost:8080/"
    },
    "executionInfo": {
     "elapsed": 644,
     "status": "ok",
     "timestamp": 1643600109023,
     "user": {
      "displayName": "Ashraf Uddin",
      "photoUrl": "https://lh3.googleusercontent.com/a-/AOh14GjBdAa8YVVeKPAj-6WRIHqgGMOom16hPYcrG5tkEw=s64",
      "userId": "01747740824393644374"
     },
     "user_tz": -360
    },
    "id": "WX14lRM59OBe",
    "outputId": "96b73815-7105-46ba-d20b-056a21e6bad0"
   },
   "outputs": [
    {
     "name": "stdout",
     "output_type": "stream",
     "text": [
      "17\n"
     ]
    }
   ],
   "source": [
    "y = addnumbers(8, 9) # use or call method\n",
    "print(y)"
   ]
  },
  {
   "cell_type": "code",
   "execution_count": null,
   "metadata": {
    "id": "rVpfHNMo9OBf",
    "outputId": "53113933-57d2-44c5-d91d-255474b059fe"
   },
   "outputs": [
    {
     "data": {
      "text/plain": [
       "99"
      ]
     },
     "execution_count": 55,
     "metadata": {},
     "output_type": "execute_result"
    }
   ],
   "source": [
    "addnumbers(33, 66)"
   ]
  },
  {
   "cell_type": "code",
   "execution_count": null,
   "metadata": {
    "id": "S1xGUH_N9OBf"
   },
   "outputs": [],
   "source": [
    "# add list values\n",
    "def addValues(num):\n",
    "    sum = 0\n",
    "    for n in num:\n",
    "        sum = sum + n\n",
    "    return sum   "
   ]
  },
  {
   "cell_type": "code",
   "execution_count": null,
   "metadata": {
    "colab": {
     "base_uri": "https://localhost:8080/"
    },
    "executionInfo": {
     "elapsed": 387,
     "status": "ok",
     "timestamp": 1643600237744,
     "user": {
      "displayName": "Ashraf Uddin",
      "photoUrl": "https://lh3.googleusercontent.com/a-/AOh14GjBdAa8YVVeKPAj-6WRIHqgGMOom16hPYcrG5tkEw=s64",
      "userId": "01747740824393644374"
     },
     "user_tz": -360
    },
    "id": "CqJJSRvK9OBf",
    "outputId": "b5027b7f-c49f-4df0-d460-5c1639be9590"
   },
   "outputs": [
    {
     "data": {
      "text/plain": [
       "52"
      ]
     },
     "execution_count": 58,
     "metadata": {},
     "output_type": "execute_result"
    }
   ],
   "source": [
    "addValues([10,20,7,15])"
   ]
  },
  {
   "cell_type": "code",
   "execution_count": null,
   "metadata": {
    "colab": {
     "base_uri": "https://localhost:8080/"
    },
    "executionInfo": {
     "elapsed": 423,
     "status": "ok",
     "timestamp": 1643600269129,
     "user": {
      "displayName": "Ashraf Uddin",
      "photoUrl": "https://lh3.googleusercontent.com/a-/AOh14GjBdAa8YVVeKPAj-6WRIHqgGMOom16hPYcrG5tkEw=s64",
      "userId": "01747740824393644374"
     },
     "user_tz": -360
    },
    "id": "XuzxUSRR9OBf",
    "outputId": "96b330a7-be8f-4888-d470-00fcf84280d9"
   },
   "outputs": [
    {
     "data": {
      "text/plain": [
       "10"
      ]
     },
     "execution_count": 59,
     "metadata": {},
     "output_type": "execute_result"
    }
   ],
   "source": [
    "addValues([10])"
   ]
  },
  {
   "cell_type": "code",
   "execution_count": null,
   "metadata": {
    "id": "egl16dJp9OBg",
    "outputId": "f9ed2739-0bad-4bb6-c241-af7f0e5e55c1"
   },
   "outputs": [
    {
     "data": {
      "text/plain": [
       "28"
      ]
     },
     "execution_count": 105,
     "metadata": {},
     "output_type": "execute_result"
    }
   ],
   "source": [
    "v = [5, 4,12, 7]\n",
    "addValues(v)"
   ]
  },
  {
   "cell_type": "code",
   "execution_count": null,
   "metadata": {
    "colab": {
     "base_uri": "https://localhost:8080/"
    },
    "executionInfo": {
     "elapsed": 454,
     "status": "ok",
     "timestamp": 1643600277531,
     "user": {
      "displayName": "Ashraf Uddin",
      "photoUrl": "https://lh3.googleusercontent.com/a-/AOh14GjBdAa8YVVeKPAj-6WRIHqgGMOom16hPYcrG5tkEw=s64",
      "userId": "01747740824393644374"
     },
     "user_tz": -360
    },
    "id": "HKIYxiaK9OBg",
    "outputId": "c2a22cc4-c22b-4971-e54d-8c53f9aba53f"
   },
   "outputs": [
    {
     "data": {
      "text/plain": [
       "84"
      ]
     },
     "execution_count": 60,
     "metadata": {},
     "output_type": "execute_result"
    }
   ],
   "source": [
    "v = [5, 4,12, 7, 5, 4,12, 7, 5, 4,12, 7]\n",
    "addValues(v)"
   ]
  },
  {
   "cell_type": "code",
   "execution_count": null,
   "metadata": {
    "id": "SksLGPeh9OBh"
   },
   "outputs": [],
   "source": [
    "# method/function\n",
    "def multiTable(n, r=10):\n",
    "    for i in range(1,r+1):\n",
    "        print(\"{}X{}={}\".format(n,i,n*i))\n"
   ]
  },
  {
   "cell_type": "code",
   "execution_count": null,
   "metadata": {
    "colab": {
     "base_uri": "https://localhost:8080/"
    },
    "executionInfo": {
     "elapsed": 404,
     "status": "ok",
     "timestamp": 1643600562109,
     "user": {
      "displayName": "Ashraf Uddin",
      "photoUrl": "https://lh3.googleusercontent.com/a-/AOh14GjBdAa8YVVeKPAj-6WRIHqgGMOom16hPYcrG5tkEw=s64",
      "userId": "01747740824393644374"
     },
     "user_tz": -360
    },
    "id": "5X6DqTib9OBh",
    "outputId": "fabdee79-2201-4018-b720-8dfc99a81d89"
   },
   "outputs": [
    {
     "name": "stdout",
     "output_type": "stream",
     "text": [
      "5X1=5\n",
      "5X2=10\n",
      "5X3=15\n",
      "5X4=20\n"
     ]
    }
   ],
   "source": [
    "multiTable(5,4)"
   ]
  },
  {
   "cell_type": "code",
   "execution_count": null,
   "metadata": {
    "colab": {
     "base_uri": "https://localhost:8080/"
    },
    "executionInfo": {
     "elapsed": 382,
     "status": "ok",
     "timestamp": 1643600567019,
     "user": {
      "displayName": "Ashraf Uddin",
      "photoUrl": "https://lh3.googleusercontent.com/a-/AOh14GjBdAa8YVVeKPAj-6WRIHqgGMOom16hPYcrG5tkEw=s64",
      "userId": "01747740824393644374"
     },
     "user_tz": -360
    },
    "id": "gfyLgPF29OBh",
    "outputId": "cfcb4010-d2e9-4cee-f009-0ef2de2cb2a2"
   },
   "outputs": [
    {
     "name": "stdout",
     "output_type": "stream",
     "text": [
      "15X1=15\n",
      "15X2=30\n",
      "15X3=45\n",
      "15X4=60\n",
      "15X5=75\n",
      "15X6=90\n",
      "15X7=105\n",
      "15X8=120\n",
      "15X9=135\n",
      "15X10=150\n"
     ]
    }
   ],
   "source": [
    "multiTable(15)"
   ]
  },
  {
   "cell_type": "markdown",
   "metadata": {
    "id": "ICNPFsDQ9OBh"
   },
   "source": [
    "<b>Exercise 3:</b> Define a method to add two lists and returns another list\n",
    "<p>Example:<br>\n",
    "    Input: [3,4,5,1] and [6,7,2,8]<br>\n",
    "    output: [9,11,7,9]</p>\n"
   ]
  },
  {
   "cell_type": "code",
   "execution_count": 20,
   "metadata": {
    "id": "5MPMcHnz9OBi"
   },
   "outputs": [
    {
     "name": "stdout",
     "output_type": "stream",
     "text": [
      "Input: [3, 4, 5, 1] and [6, 7, 2, 8]\n",
      "Output: [9, 11, 7, 9]\n"
     ]
    }
   ],
   "source": [
    "def addision(r, s):\n",
    " rsa = []\n",
    "\n",
    " for i in range(0, len(r)):\n",
    "    rsa.append(r[i] + s[i])\n",
    " print(\"Input: \"+ str(r) + \" and \" + str(s))\n",
    " print(\"Output: \"+ str(rsa))\n",
    "    \n",
    "addision([3,4,5,1], [6,7,2,8])"
   ]
  },
  {
   "cell_type": "markdown",
   "metadata": {
    "id": "DSjaC86G9OBi"
   },
   "source": [
    "<b> Exercise 4:</b> Write a method to print first name and last name from full name.\n",
    "<p>Example:<br>\n",
    "    Input: Arafat Rahman Sunny<br>\n",
    "    Output: First name: Arafat, Last name: Sunny</p>"
   ]
  },
  {
   "cell_type": "code",
   "execution_count": null,
   "metadata": {
    "id": "HCpI48lj9OBi"
   },
   "outputs": [],
   "source": [
    "# code here"
   ]
  },
  {
   "cell_type": "markdown",
   "metadata": {
    "id": "rQ1Zq6Dm9OBj"
   },
   "source": [
    "# Output Formatting (Optional)\n",
    "Go to the [link](https://docs.python.org/3/tutorial/inputoutput.html#formatted-string-literals) and practice the codes below."
   ]
  },
  {
   "cell_type": "code",
   "execution_count": null,
   "metadata": {
    "id": "yFN0SVO29OBj"
   },
   "outputs": [],
   "source": [
    "# code here"
   ]
  }
 ],
 "metadata": {
  "colab": {
   "name": "Week 02 Basic Python Statements, IO and Functions.ipynb",
   "provenance": []
  },
  "kernelspec": {
   "display_name": "Python 3 (ipykernel)",
   "language": "python",
   "name": "python3"
  },
  "language_info": {
   "codemirror_mode": {
    "name": "ipython",
    "version": 3
   },
   "file_extension": ".py",
   "mimetype": "text/x-python",
   "name": "python",
   "nbconvert_exporter": "python",
   "pygments_lexer": "ipython3",
   "version": "3.9.7"
  }
 },
 "nbformat": 4,
 "nbformat_minor": 1
}
