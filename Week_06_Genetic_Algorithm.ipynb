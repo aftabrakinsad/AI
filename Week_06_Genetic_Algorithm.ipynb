{
  "cells": [
    {
      "cell_type": "markdown",
      "metadata": {
        "id": "view-in-github",
        "colab_type": "text"
      },
      "source": [
        "<a href=\"https://colab.research.google.com/github/aftabrakinsad/AI/blob/master/Week_06_Genetic_Algorithm.ipynb\" target=\"_parent\"><img src=\"https://colab.research.google.com/assets/colab-badge.svg\" alt=\"Open In Colab\"/></a>"
      ]
    },
    {
      "cell_type": "markdown",
      "metadata": {
        "id": "PljjDoHsR2oo"
      },
      "source": [
        "### Problem: Maximize f(x) = x^3-11x^2+150 when x = 0 to 255"
      ]
    },
    {
      "cell_type": "markdown",
      "metadata": {
        "id": "amiJz7hkR2o1"
      },
      "source": [
        "Representation or ecoding solution:\n",
        "x can be represented using 8 bits binary number."
      ]
    },
    {
      "cell_type": "markdown",
      "metadata": {
        "id": "xkPl5Qy6R2o2"
      },
      "source": [
        "# Step 1: Initialize Population"
      ]
    },
    {
      "cell_type": "code",
      "execution_count": null,
      "metadata": {
        "_cell_guid": "b1076dfc-b9ad-4769-8c92-a6c4dae69d19",
        "_uuid": "8f2839f25d086af736a60e9eeb907d3b93b6e0e5",
        "id": "aO_eE4NBR2o3"
      },
      "outputs": [],
      "source": [
        "import random\n",
        "def initPopulation(b, n = 10):\n",
        "    p = []\n",
        "    for i in range(n):\n",
        "        s = []\n",
        "        for j in range(b):\n",
        "            s.append(random.choice([0,1]))    \n",
        "        p.append(s)\n",
        "    return p"
      ]
    },
    {
      "cell_type": "code",
      "execution_count": null,
      "metadata": {
        "colab": {
          "base_uri": "https://localhost:8080/"
        },
        "id": "BvKniLtzR2o5",
        "outputId": "e6314e6d-2d39-4ae7-ba01-4b918731b66b"
      },
      "outputs": [
        {
          "output_type": "execute_result",
          "data": {
            "text/plain": [
              "[[1, 0, 1, 0, 1, 0, 0, 1],\n",
              " [0, 1, 0, 1, 1, 1, 0, 0],\n",
              " [0, 1, 1, 1, 0, 0, 1, 0],\n",
              " [1, 0, 0, 1, 1, 1, 1, 1],\n",
              " [1, 1, 1, 1, 0, 1, 0, 1],\n",
              " [1, 1, 1, 1, 1, 0, 1, 1],\n",
              " [1, 1, 1, 0, 0, 1, 0, 0],\n",
              " [0, 0, 0, 1, 0, 1, 1, 0],\n",
              " [0, 1, 1, 0, 1, 1, 0, 0],\n",
              " [1, 1, 1, 0, 1, 0, 0, 1],\n",
              " [1, 1, 0, 1, 1, 0, 1, 1],\n",
              " [0, 0, 1, 0, 1, 1, 0, 1]]"
            ]
          },
          "metadata": {},
          "execution_count": 2
        }
      ],
      "source": [
        "population = initPopulation(8, 12)\n",
        "population"
      ]
    },
    {
      "cell_type": "markdown",
      "metadata": {
        "id": "7sRGWTZiR2o7"
      },
      "source": [
        "# Step 2: Reproduction or Parent Selection"
      ]
    },
    {
      "cell_type": "markdown",
      "metadata": {
        "id": "xhGLQorpR2o9"
      },
      "source": [
        "Fitness Calculation"
      ]
    },
    {
      "cell_type": "code",
      "execution_count": null,
      "metadata": {
        "colab": {
          "base_uri": "https://localhost:8080/"
        },
        "id": "aAMFMmwWR2pA",
        "outputId": "b92e9953-ef50-4daf-fef4-b17ea1a10080"
      },
      "outputs": [
        {
          "output_type": "execute_result",
          "data": {
            "text/plain": [
              "[4, 3, 2, 1, 0]"
            ]
          },
          "metadata": {},
          "execution_count": 3
        }
      ],
      "source": [
        "[i for i in range(4,-1,-1)]"
      ]
    },
    {
      "cell_type": "code",
      "execution_count": null,
      "metadata": {
        "id": "Ci-r7avFR2pB"
      },
      "outputs": [],
      "source": [
        "def getFitness(p):\n",
        "    f = []\n",
        "    for sol in p:\n",
        "        d = 0\n",
        "        b = len(sol)\n",
        "        for i in range(b-1,-1,-1):\n",
        "            d = d + sol[i]*2**(b-1-i)\n",
        "        f.append(d**3 - 11*d**2 + 150)\n",
        "    return f"
      ]
    },
    {
      "cell_type": "code",
      "execution_count": null,
      "metadata": {
        "colab": {
          "base_uri": "https://localhost:8080/"
        },
        "id": "aUeBsrp3R2pC",
        "outputId": "c49cac07-5342-4d83-a7c0-d4036bdd36b9"
      },
      "outputs": [
        {
          "output_type": "execute_result",
          "data": {
            "text/plain": [
              "[4512788,\n",
              " 685734,\n",
              " 1338738,\n",
              " 3741738,\n",
              " 14046000,\n",
              " 15120390,\n",
              " 11280678,\n",
              " 5474,\n",
              " 1131558,\n",
              " 12052308,\n",
              " 9976038,\n",
              " 69000]"
            ]
          },
          "metadata": {},
          "execution_count": 5
        }
      ],
      "source": [
        "fitness = getFitness(population)\n",
        "fitness"
      ]
    },
    {
      "cell_type": "markdown",
      "metadata": {
        "id": "AmZfPRXuR2pD"
      },
      "source": [
        "calculate probability and select parents"
      ]
    },
    {
      "cell_type": "code",
      "execution_count": null,
      "metadata": {
        "id": "2_9AfYF8R2pE"
      },
      "outputs": [],
      "source": [
        "def select_parent(n, pop):\n",
        "    # probability\n",
        "    fitness = getFitness(pop)\n",
        "    total_fitness = sum(fitness)\n",
        "    prob = [round(f/total_fitness,3) for f in fitness]\n",
        "    # parent selection\n",
        "    parents = []\n",
        "    for i in range(n):\n",
        "        # roullete wheel, generate a random number\n",
        "        r = random.choice(range(1,1001,1))/1000\n",
        "        lim = 0\n",
        "        for j in range(len(prob)):\n",
        "            lim = lim + prob[j]\n",
        "            if r <= lim:\n",
        "                print(j)\n",
        "                parents.append(pop[j])\n",
        "                break\n",
        "    return parents"
      ]
    },
    {
      "cell_type": "code",
      "execution_count": null,
      "metadata": {
        "colab": {
          "base_uri": "https://localhost:8080/"
        },
        "id": "eoSQEEKjR2pE",
        "outputId": "d5dfd7db-2e8f-4478-f5fe-092e1f2aaf8d"
      },
      "outputs": [
        {
          "output_type": "stream",
          "name": "stdout",
          "text": [
            "5\n",
            "0\n",
            "10\n",
            "2\n",
            "9\n",
            "9\n"
          ]
        }
      ],
      "source": [
        "parents = select_parent(6, population)"
      ]
    },
    {
      "cell_type": "markdown",
      "metadata": {
        "id": "gPBEznf6R2pF"
      },
      "source": [
        "# Step 3: Crossover"
      ]
    },
    {
      "cell_type": "code",
      "execution_count": null,
      "metadata": {
        "id": "OXOM-5kwR2pG"
      },
      "outputs": [],
      "source": [
        "def crossover(parents): # define a method crossover (input is parents set)\n",
        "\n",
        "    #num_cross = len(parents)/2\n",
        "    #print(num_cross)\n",
        "    offspring = []\n",
        "\n",
        "    for c in range(0, len(parents), 2): # for loop to perform crossovers\n",
        "        p = parents[c]\n",
        "        q = parents[c+1]\n",
        "        \n",
        "        cp = random.choice(range(1,7))\n",
        "        print(cp)\n",
        "        # perform crossover\n",
        "        offspring.append(p[0:cp] + q[cp:len(p)])\n",
        "        offspring.append(q[0:cp] + p[cp:len(p)])\n",
        "        \n",
        "    return offspring\n",
        "    # return the offsprings"
      ]
    },
    {
      "cell_type": "code",
      "source": [
        "offsprings = crossover(parents)\n",
        "offsprings"
      ],
      "metadata": {
        "colab": {
          "base_uri": "https://localhost:8080/"
        },
        "id": "pbGYP8ZtJjDV",
        "outputId": "d62daf33-4e6d-4113-ace1-4ea6c80618cc"
      },
      "execution_count": null,
      "outputs": [
        {
          "output_type": "stream",
          "name": "stdout",
          "text": [
            "5\n",
            "2\n",
            "2\n"
          ]
        },
        {
          "output_type": "execute_result",
          "data": {
            "text/plain": [
              "[[1, 1, 1, 1, 1, 0, 0, 1],\n",
              " [1, 0, 1, 0, 1, 0, 1, 1],\n",
              " [1, 1, 1, 1, 0, 0, 1, 0],\n",
              " [0, 1, 0, 1, 1, 0, 1, 1],\n",
              " [1, 1, 1, 0, 1, 0, 0, 1],\n",
              " [1, 1, 1, 0, 1, 0, 0, 1]]"
            ]
          },
          "metadata": {},
          "execution_count": 9
        }
      ]
    },
    {
      "cell_type": "markdown",
      "metadata": {
        "id": "B00DtWSBR2pG"
      },
      "source": [
        "# Step 4: Select Survivor\n",
        "The selected survivors (solutions) will be added to population"
      ]
    },
    {
      "cell_type": "markdown",
      "metadata": {
        "id": "a86mmlj8R2pI"
      },
      "source": [
        "Select top 2 offspring based on fitness value and add them to population."
      ]
    },
    {
      "cell_type": "markdown",
      "metadata": {
        "id": "efF2TyITR2pJ"
      },
      "source": [
        "Repeat Step 2 to 4 for further iterations"
      ]
    },
    {
      "cell_type": "code",
      "execution_count": null,
      "metadata": {
        "id": "az2fGpbbR2pJ",
        "colab": {
          "base_uri": "https://localhost:8080/"
        },
        "outputId": "a01427a1-7818-419a-a6fc-8ee3e1f42ca5"
      },
      "outputs": [
        {
          "output_type": "stream",
          "name": "stdout",
          "text": [
            "[1, 1, 1, 1, 1, 0, 0, 1]\n",
            "[1, 0, 1, 0, 1, 0, 1, 1]\n"
          ]
        }
      ],
      "source": [
        "# define a method to select top offsprings (input offsprings, top)\n",
        "def top_offspring(offsprings, top):\n",
        "    top_offsprings = []\n",
        "    survivors = sortSurvivors = getFitness(offsprings)\n",
        "    sortSurvivors.sort(reverse=True)\n",
        "    for t in range(top):\n",
        "        temp = offsprings[survivors.index(sortSurvivors[t])]\n",
        "        #temp = offsprings[survivors.index(max(survivors))]\n",
        "        print(temp)\n",
        "        population.append(temp)\n",
        "    \n",
        "top_offspring(offsprings, 2)"
      ]
    },
    {
      "cell_type": "code",
      "source": [
        "len(population)"
      ],
      "metadata": {
        "id": "-CvRTsGV0aPU",
        "outputId": "b0f296ba-5862-4e2a-cb85-14ed9225aaed",
        "colab": {
          "base_uri": "https://localhost:8080/"
        }
      },
      "execution_count": null,
      "outputs": [
        {
          "output_type": "execute_result",
          "data": {
            "text/plain": [
              "14"
            ]
          },
          "metadata": {},
          "execution_count": 11
        }
      ]
    }
  ],
  "metadata": {
    "kernelspec": {
      "display_name": "Python 3",
      "language": "python",
      "name": "python3"
    },
    "language_info": {
      "codemirror_mode": {
        "name": "ipython",
        "version": 3
      },
      "file_extension": ".py",
      "mimetype": "text/x-python",
      "name": "python",
      "nbconvert_exporter": "python",
      "pygments_lexer": "ipython3",
      "version": "3.8.5"
    },
    "colab": {
      "name": "Week 06 Genetic Algorithm.ipynb",
      "provenance": [],
      "collapsed_sections": [],
      "include_colab_link": true
    }
  },
  "nbformat": 4,
  "nbformat_minor": 0
}